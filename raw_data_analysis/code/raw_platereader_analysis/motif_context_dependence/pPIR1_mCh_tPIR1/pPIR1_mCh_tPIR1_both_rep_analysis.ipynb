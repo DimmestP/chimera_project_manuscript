{
 "cells": [
  {
   "cell_type": "code",
   "execution_count": null,
   "metadata": {},
   "outputs": [],
   "source": [
    "import numpy as np\n",
    "import matplotlib.pyplot as plt\n",
    "import pandas as pd\n",
    "import seaborn as sns\n",
    "# makes figures look better in Jupyter\n",
    "sns.set_context(\"talk\")"
   ]
  },
  {
   "cell_type": "code",
   "execution_count": null,
   "metadata": {},
   "outputs": [],
   "source": [
    "import sys \n",
    "from pathlib import Path \n",
    "sys.path.insert(0, str(Path.cwd().parents[1]) + \"/omniplate_platereader_analysis_code\")"
   ]
  },
  {
   "cell_type": "code",
   "execution_count": null,
   "metadata": {},
   "outputs": [],
   "source": [
    "import omniplate as om"
   ]
  },
  {
   "cell_type": "code",
   "execution_count": null,
   "metadata": {},
   "outputs": [],
   "source": [
    "p= om.platereader(wdir= '../../../../data/raw_platereader/motif_context_dependence/pPIR1-mCh-tPIR1/')"
   ]
  },
  {
   "cell_type": "code",
   "execution_count": null,
   "metadata": {},
   "outputs": [],
   "source": [
    "p.load(['20201202_pPIR1_tPIR1_n1/20201202-pPIR1-tPIR1mod_n1.xlsx', '20201204_pPIR1_tPIR1_n2/20201204-pPIR1-tPIR1mod_n2.xlsx'], ['20201202_pPIR1_tPIR1_n1/20201201-tPIR1200contents.xls', '20201204_pPIR1_tPIR1_n2/20201201-tPIR1200contents.xls'])"
   ]
  },
  {
   "cell_type": "code",
   "execution_count": null,
   "metadata": {},
   "outputs": [],
   "source": [
    "p.r.head()"
   ]
  },
  {
   "cell_type": "code",
   "execution_count": null,
   "metadata": {},
   "outputs": [],
   "source": [
    "p.r.columns"
   ]
  },
  {
   "cell_type": "code",
   "execution_count": null,
   "metadata": {},
   "outputs": [],
   "source": [
    "p.s"
   ]
  },
  {
   "cell_type": "code",
   "execution_count": null,
   "metadata": {},
   "outputs": [],
   "source": [
    "p.plot(y= 'OD', plate= True)\n",
    "p.plot(y= 'mCherry-100', plate= True)"
   ]
  },
  {
   "cell_type": "code",
   "execution_count": null,
   "metadata": {},
   "outputs": [],
   "source": [
    "p.correctOD()"
   ]
  },
  {
   "cell_type": "code",
   "execution_count": null,
   "metadata": {},
   "outputs": [],
   "source": [
    "p.plot(y= 'mCherry-100', by= 'well')\n"
   ]
  },
  {
   "cell_type": "code",
   "execution_count": null,
   "metadata": {
    "scrolled": false
   },
   "outputs": [],
   "source": [
    "sns.relplot(x= 'time', y= 'OD', data= p.r, kind= 'line', hue= 'well', \n",
    "            col= 'strain')"
   ]
  },
  {
   "cell_type": "code",
   "execution_count": null,
   "metadata": {},
   "outputs": [],
   "source": [
    "p.getstats(figs=False)"
   ]
  },
  {
   "cell_type": "code",
   "execution_count": null,
   "metadata": {},
   "outputs": [],
   "source": [
    "p.sc[['experiment','strain', 'max gr', 'max gr var']].head()"
   ]
  },
  {
   "cell_type": "code",
   "execution_count": null,
   "metadata": {},
   "outputs": [],
   "source": [
    "p.plot(y= 'gr', hue= 'strain')"
   ]
  },
  {
   "cell_type": "code",
   "execution_count": null,
   "metadata": {},
   "outputs": [],
   "source": [
    "p.correctauto(['mCherry-100'], refstrain= 'POT1-ccdB clone 1')"
   ]
  },
  {
   "cell_type": "code",
   "execution_count": null,
   "metadata": {},
   "outputs": [],
   "source": [
    "experiment= ['20201202_pPIR1_tPIR1_n1/20201202-pPIR1-tPIR1mod_n1', '20201204_pPIR1_tPIR1_n2/20201204-pPIR1-tPIR1mod_n2']\n",
    "# store results as an array of dictionaries to eventually convert into a dataframe\n",
    "results= []\n",
    "for e in experiment:\n",
    "    for s in p.allstrains[e]:\n",
    "        # find the time of local maximum growth rate for the condition\n",
    "        tm= p.sc.query('strain == @s & experiment == @e')['time of local max gr'].values[0]\n",
    "        # take the relevant sub-dataframe for the condition\n",
    "        df= p.s.query('strain == @s & experiment == @e')\n",
    "        # find GPF mean at time tm\n",
    "        i= np.argmin(np.abs(df['time'].values - tm))\n",
    "        results.append({'c_mCherry_100_per_OD_at_max_local_gr' : df['c-mCherry-100perod'][df.index[i]],\n",
    "                     'strain' : s, 'experiment': e})"
   ]
  },
  {
   "cell_type": "code",
   "execution_count": null,
   "metadata": {},
   "outputs": [],
   "source": [
    "pd.DataFrame(results)[['experiment','strain','c_mCherry_100_per_OD_at_max_local_gr']].to_csv(\"../../../../data/norm_platereader/motif_context_dependence/pPIR1-mCh-tPIR1/pPIR1-mCh-tPIR1_both_reps.csv\")"
   ]
  },
  {
   "cell_type": "code",
   "execution_count": null,
   "metadata": {},
   "outputs": [],
   "source": []
  }
 ],
 "metadata": {
  "kernelspec": {
   "display_name": "Python 3",
   "language": "python",
   "name": "python3"
  },
  "language_info": {
   "codemirror_mode": {
    "name": "ipython",
    "version": 3
   },
   "file_extension": ".py",
   "mimetype": "text/x-python",
   "name": "python",
   "nbconvert_exporter": "python",
   "pygments_lexer": "ipython3",
   "version": "3.7.4"
  }
 },
 "nbformat": 4,
 "nbformat_minor": 2
}
