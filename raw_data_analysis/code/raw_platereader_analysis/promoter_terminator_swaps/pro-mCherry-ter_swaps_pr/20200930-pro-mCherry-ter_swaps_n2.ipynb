{
 "cells": [
  {
   "cell_type": "code",
   "execution_count": 1,
   "metadata": {},
   "outputs": [],
   "source": [
    "import numpy as np\n",
    "import matplotlib.pyplot as plt\n",
    "import pandas as pd\n",
    "import seaborn as sns\n",
    "# makes figures look better in Jupyter\n",
    "sns.set_context(\"talk\")"
   ]
  },
  {
   "cell_type": "code",
   "execution_count": 2,
   "metadata": {},
   "outputs": [],
   "source": [
    "import sys \n",
    "from pathlib import Path \n",
    "sys.path.insert(0, str(Path.cwd().parents[1]) + \"/omniplate_platereader_analysis_code\")"
   ]
  },
  {
   "cell_type": "code",
   "execution_count": 3,
   "metadata": {},
   "outputs": [],
   "source": [
    "import omniplate as om"
   ]
  },
  {
   "cell_type": "code",
   "execution_count": 4,
   "metadata": {},
   "outputs": [
    {
     "name": "stdout",
     "output_type": "stream",
     "text": [
      "\n",
      "omniplate version= 0.15\n",
      "Working directory is /home/dimmest-p/Documents/PhD/3UTR_motifs/motifPrediction/chimera_project_manuscript/raw_data_analysis/code/raw_platereader_analysis/promoter_terminator_swaps/pro-mCherry-ter_swaps_pr/../../../../data/raw_platereader/promoter_terminator_swaps/mCherry_collection/\n",
      "Files available are: \n",
      "---\n",
      "20200930-pro-mCherry-ter_swaps_n2.xlsx\n",
      "20200929-pro-mCherry-ter_swaps_n1.xlsx\n",
      "pro-mCherry-ter_swaps_n3_contents.xls\n",
      "pro-mCherry-ter_swaps_n5_contents.xls\n",
      "ODcorrection_Glucose_Haploid.txt\n",
      "20201001-pro-mCherry-ter_swaps_n3_r.json\n",
      "20201001-pro-mCherry-ter_swaps_n3_sc.json\n",
      "20201027-pro-mCherry-ter_swaps_n6.xlsx\n",
      "pro-mCherry-ter_swaps_n2_contents.xls\n",
      "pro-mCherry-ter_swaps_n1_contents.xls\n",
      "20201014-pro-mCherry-ter_swaps_n5.xlsx\n",
      "pro-mCherry-ter_swaps_n4_contents.xls\n",
      "pro-mCherry-ter_swaps_n6_contents.xls\n",
      "20201001-pro-mCherry-ter_swaps_n3_s.json\n",
      "20201002-pro-mCherry-ter_swaps_n4.xlsx\n",
      "20201001-pro-mCherry-ter_swaps_n3.xlsx\n",
      "20201001-pro-mCherry-ter_swaps_n3.log\n"
     ]
    }
   ],
   "source": [
    "p= om.platereader(wdir= '../../../../data/raw_platereader/promoter_terminator_swaps/mCherry_collection/')"
   ]
  },
  {
   "cell_type": "code",
   "execution_count": 5,
   "metadata": {},
   "outputs": [
    {
     "name": "stdout",
     "output_type": "stream",
     "text": [
      "loading 20200930-pro-mCherry-ter_swaps_n2.xlsx\n",
      "\n",
      "Experiment: 20200930-pro-mCherry-ter_swaps_n2 \n",
      "---\n",
      "Conditions:\n",
      "\t SC-URA\n",
      "Strains:\n",
      "\t POT1-ccdB_biorep2\n",
      "\t null\n",
      "\t pCLN2-mCherry-tCLN2_biorep2\n",
      "\t pCLN2-mCherry-tHSP26_biorep2\n",
      "\t pCLN2-mCherry-tPAB1_biorep2\n",
      "\t pCLN2-mCherry-tPGK1_biorep2\n",
      "\t pCLN2-mCherry-tPMA1_biorep2\n",
      "\t pCLN2-mCherry-tRPS13_biorep2\n",
      "\t pCLN2-mCherry-tRPS3_biorep2\n",
      "\t pCLN2-mCherry-tSRO9_biorep2\n",
      "\t pCLN2-mCherry-tSUN4_biorep2\n",
      "\t pCLN2-mCherry-tTOS6_biorep2\n",
      "\t pHSP26-mCherry-tCLN2_biorep2\n",
      "\t pHSP26-mCherry-tHSP26_biorep2\n",
      "\t pHSP26-mCherry-tPAB1_biorep2\n",
      "\t pHSP26-mCherry-tPGK1_biorep2\n",
      "\t pHSP26-mCherry-tPMA1_biorep2\n",
      "\t pHSP26-mCherry-tRPS13_biorep2\n",
      "\t pHSP26-mCherry-tRPS3_biorep2\n",
      "\t pHSP26-mCherry-tSRO9_biorep2\n",
      "\t pHSP26-mCherry-tSUN4_biorep2\n",
      "\t pPGK1-mCherry-tCLN2_biorep2\n",
      "\t pPGK1-mCherry-tHSP26_biorep2\n",
      "\t pPGK1-mCherry-tPAB1_biorep2\n",
      "\t pPGK1-mCherry-tPGK1_biorep2\n",
      "\t pPGK1-mCherry-tPMA1_biorep2\n",
      "\t pPGK1-mCherry-tRPS13_biorep2\n",
      "\t pPGK1-mCherry-tRPS3_biorep2\n",
      "\t pPGK1-mCherry-tSRO9_biorep2\n",
      "\t pPGK1-mCherry-tSUN4_biorep2\n",
      "\t pPGK1-mCherry-tTOS6_biorep2\n",
      "\t pRPS13-mCherry-tCLN2_biorep2\n",
      "\t pRPS13-mCherry-tHSP26_biorep2\n",
      "\t pRPS13-mCherry-tPAB1_biorep2\n",
      "\t pRPS13-mCherry-tPGK1_biorep2\n",
      "\t pRPS13-mCherry-tPMA1_biorep2\n",
      "\t pRPS13-mCherry-tRPS13_biorep2\n",
      "\t pRPS13-mCherry-tRPS3_biorep2\n",
      "\t pRPS13-mCherry-tSRO9_biorep2\n",
      "\t pRPS13-mCherry-tSUN4_biorep2\n",
      "\t pRPS13-mCherry-tTOS6_biorep2\n",
      "\t pRPS3-mCherry-tCLN2_biorep2\n",
      "\t pRPS3-mCherry-tHSP26_biorep2\n",
      "\t pRPS3-mCherry-tPAB1_biorep2\n",
      "\t pRPS3-mCherry-tPGK1_biorep2\n",
      "\t pRPS3-mCherry-tPMA1_biorep2\n",
      "\t pRPS3-mCherry-tRPS13_biorep2\n",
      "\t pRPS3-mCherry-tRPS3_biorep2\n",
      "\t pRPS3-mCherry-tSRO9_biorep2\n",
      "\t pRPS3-mCherry-tSUN4_biorep2\n",
      "\t pRPS3-mCherry-tTOS6_biorep2\n",
      "\t pSRO9-mCherry-tCLN2_biorep2\n",
      "\t pSRO9-mCherry-tHSP26_biorep2\n",
      "\t pSRO9-mCherry-tPAB1_biorep2\n",
      "\t pSRO9-mCherry-tPGK1_biorep2\n",
      "\t pSRO9-mCherry-tPMA1_biorep2\n",
      "\t pSRO9-mCherry-tRPS13_biorep2\n",
      "\t pSRO9-mCherry-tRPS3_biorep2\n",
      "\t pSRO9-mCherry-tSRO9_biorep2\n",
      "\t pSRO9-mCherry-tSUN4_biorep2\n",
      "\t pSRO9-mCherry-tTOS6_biorep2\n",
      "Data types:\n",
      "\t OD\n",
      "\t mCherry-100\n",
      "\t mCherry-120\n",
      "Ignored wells:\n",
      "\t None\n"
     ]
    }
   ],
   "source": [
    "p.load('20200930-pro-mCherry-ter_swaps_n2.xlsx', 'pro-mCherry-ter_swaps_n2_contents.xls')"
   ]
  },
  {
   "cell_type": "code",
   "execution_count": 6,
   "metadata": {},
   "outputs": [
    {
     "data": {
      "text/html": [
       "<div>\n",
       "<style scoped>\n",
       "    .dataframe tbody tr th:only-of-type {\n",
       "        vertical-align: middle;\n",
       "    }\n",
       "\n",
       "    .dataframe tbody tr th {\n",
       "        vertical-align: top;\n",
       "    }\n",
       "\n",
       "    .dataframe thead th {\n",
       "        text-align: right;\n",
       "    }\n",
       "</style>\n",
       "<table border=\"1\" class=\"dataframe\">\n",
       "  <thead>\n",
       "    <tr style=\"text-align: right;\">\n",
       "      <th></th>\n",
       "      <th>experiment</th>\n",
       "      <th>condition</th>\n",
       "      <th>strain</th>\n",
       "      <th>time</th>\n",
       "      <th>well</th>\n",
       "      <th>OD</th>\n",
       "      <th>mCherry-100</th>\n",
       "      <th>mCherry-120</th>\n",
       "    </tr>\n",
       "  </thead>\n",
       "  <tbody>\n",
       "    <tr>\n",
       "      <th>0</th>\n",
       "      <td>20200930-pro-mCherry-ter_swaps_n2</td>\n",
       "      <td>SC-URA</td>\n",
       "      <td>null</td>\n",
       "      <td>0.000000</td>\n",
       "      <td>A1</td>\n",
       "      <td>0.0788</td>\n",
       "      <td>7.0</td>\n",
       "      <td>21.0</td>\n",
       "    </tr>\n",
       "    <tr>\n",
       "      <th>1</th>\n",
       "      <td>20200930-pro-mCherry-ter_swaps_n2</td>\n",
       "      <td>SC-URA</td>\n",
       "      <td>null</td>\n",
       "      <td>0.211815</td>\n",
       "      <td>A1</td>\n",
       "      <td>0.0787</td>\n",
       "      <td>5.0</td>\n",
       "      <td>19.0</td>\n",
       "    </tr>\n",
       "    <tr>\n",
       "      <th>2</th>\n",
       "      <td>20200930-pro-mCherry-ter_swaps_n2</td>\n",
       "      <td>SC-URA</td>\n",
       "      <td>null</td>\n",
       "      <td>0.423593</td>\n",
       "      <td>A1</td>\n",
       "      <td>0.0791</td>\n",
       "      <td>4.0</td>\n",
       "      <td>22.0</td>\n",
       "    </tr>\n",
       "    <tr>\n",
       "      <th>3</th>\n",
       "      <td>20200930-pro-mCherry-ter_swaps_n2</td>\n",
       "      <td>SC-URA</td>\n",
       "      <td>null</td>\n",
       "      <td>0.635370</td>\n",
       "      <td>A1</td>\n",
       "      <td>0.0789</td>\n",
       "      <td>4.0</td>\n",
       "      <td>18.0</td>\n",
       "    </tr>\n",
       "    <tr>\n",
       "      <th>4</th>\n",
       "      <td>20200930-pro-mCherry-ter_swaps_n2</td>\n",
       "      <td>SC-URA</td>\n",
       "      <td>null</td>\n",
       "      <td>0.847148</td>\n",
       "      <td>A1</td>\n",
       "      <td>0.0795</td>\n",
       "      <td>6.0</td>\n",
       "      <td>18.0</td>\n",
       "    </tr>\n",
       "  </tbody>\n",
       "</table>\n",
       "</div>"
      ],
      "text/plain": [
       "                          experiment condition strain      time well      OD  \\\n",
       "0  20200930-pro-mCherry-ter_swaps_n2    SC-URA   null  0.000000   A1  0.0788   \n",
       "1  20200930-pro-mCherry-ter_swaps_n2    SC-URA   null  0.211815   A1  0.0787   \n",
       "2  20200930-pro-mCherry-ter_swaps_n2    SC-URA   null  0.423593   A1  0.0791   \n",
       "3  20200930-pro-mCherry-ter_swaps_n2    SC-URA   null  0.635370   A1  0.0789   \n",
       "4  20200930-pro-mCherry-ter_swaps_n2    SC-URA   null  0.847148   A1  0.0795   \n",
       "\n",
       "   mCherry-100  mCherry-120  \n",
       "0          7.0         21.0  \n",
       "1          5.0         19.0  \n",
       "2          4.0         22.0  \n",
       "3          4.0         18.0  \n",
       "4          6.0         18.0  "
      ]
     },
     "execution_count": 6,
     "metadata": {},
     "output_type": "execute_result"
    }
   ],
   "source": [
    "p.r.head()"
   ]
  },
  {
   "cell_type": "code",
   "execution_count": 7,
   "metadata": {},
   "outputs": [
    {
     "data": {
      "text/plain": [
       "Index(['experiment', 'condition', 'strain', 'time', 'well', 'OD',\n",
       "       'mCherry-100', 'mCherry-120'],\n",
       "      dtype='object')"
      ]
     },
     "execution_count": 7,
     "metadata": {},
     "output_type": "execute_result"
    }
   ],
   "source": [
    "p.r.columns"
   ]
  },
  {
   "cell_type": "code",
   "execution_count": 8,
   "metadata": {},
   "outputs": [
    {
     "data": {
      "text/html": [
       "<div>\n",
       "<style scoped>\n",
       "    .dataframe tbody tr th:only-of-type {\n",
       "        vertical-align: middle;\n",
       "    }\n",
       "\n",
       "    .dataframe tbody tr th {\n",
       "        vertical-align: top;\n",
       "    }\n",
       "\n",
       "    .dataframe thead th {\n",
       "        text-align: right;\n",
       "    }\n",
       "</style>\n",
       "<table border=\"1\" class=\"dataframe\">\n",
       "  <thead>\n",
       "    <tr style=\"text-align: right;\">\n",
       "      <th></th>\n",
       "      <th>experiment</th>\n",
       "      <th>condition</th>\n",
       "      <th>strain</th>\n",
       "      <th>time</th>\n",
       "      <th>OD mean</th>\n",
       "      <th>mCherry-100 mean</th>\n",
       "      <th>mCherry-120 mean</th>\n",
       "      <th>OD var</th>\n",
       "      <th>mCherry-100 var</th>\n",
       "      <th>mCherry-120 var</th>\n",
       "    </tr>\n",
       "  </thead>\n",
       "  <tbody>\n",
       "    <tr>\n",
       "      <th>0</th>\n",
       "      <td>20200930-pro-mCherry-ter_swaps_n2</td>\n",
       "      <td>SC-URA</td>\n",
       "      <td>POT1-ccdB_biorep2</td>\n",
       "      <td>0.000000</td>\n",
       "      <td>0.264850</td>\n",
       "      <td>6.25</td>\n",
       "      <td>19.50</td>\n",
       "      <td>0.000039</td>\n",
       "      <td>0.250000</td>\n",
       "      <td>4.333333</td>\n",
       "    </tr>\n",
       "    <tr>\n",
       "      <th>1</th>\n",
       "      <td>20200930-pro-mCherry-ter_swaps_n2</td>\n",
       "      <td>SC-URA</td>\n",
       "      <td>POT1-ccdB_biorep2</td>\n",
       "      <td>0.211815</td>\n",
       "      <td>0.267325</td>\n",
       "      <td>6.00</td>\n",
       "      <td>18.50</td>\n",
       "      <td>0.000034</td>\n",
       "      <td>0.000000</td>\n",
       "      <td>0.333333</td>\n",
       "    </tr>\n",
       "    <tr>\n",
       "      <th>2</th>\n",
       "      <td>20200930-pro-mCherry-ter_swaps_n2</td>\n",
       "      <td>SC-URA</td>\n",
       "      <td>POT1-ccdB_biorep2</td>\n",
       "      <td>0.423593</td>\n",
       "      <td>0.270625</td>\n",
       "      <td>3.75</td>\n",
       "      <td>19.00</td>\n",
       "      <td>0.000048</td>\n",
       "      <td>0.250000</td>\n",
       "      <td>1.333333</td>\n",
       "    </tr>\n",
       "    <tr>\n",
       "      <th>3</th>\n",
       "      <td>20200930-pro-mCherry-ter_swaps_n2</td>\n",
       "      <td>SC-URA</td>\n",
       "      <td>POT1-ccdB_biorep2</td>\n",
       "      <td>0.635370</td>\n",
       "      <td>0.275075</td>\n",
       "      <td>4.00</td>\n",
       "      <td>18.25</td>\n",
       "      <td>0.000040</td>\n",
       "      <td>2.000000</td>\n",
       "      <td>0.916667</td>\n",
       "    </tr>\n",
       "    <tr>\n",
       "      <th>4</th>\n",
       "      <td>20200930-pro-mCherry-ter_swaps_n2</td>\n",
       "      <td>SC-URA</td>\n",
       "      <td>POT1-ccdB_biorep2</td>\n",
       "      <td>0.847148</td>\n",
       "      <td>0.282000</td>\n",
       "      <td>5.25</td>\n",
       "      <td>20.00</td>\n",
       "      <td>0.000026</td>\n",
       "      <td>0.916667</td>\n",
       "      <td>0.000000</td>\n",
       "    </tr>\n",
       "    <tr>\n",
       "      <th>...</th>\n",
       "      <td>...</td>\n",
       "      <td>...</td>\n",
       "      <td>...</td>\n",
       "      <td>...</td>\n",
       "      <td>...</td>\n",
       "      <td>...</td>\n",
       "      <td>...</td>\n",
       "      <td>...</td>\n",
       "      <td>...</td>\n",
       "      <td>...</td>\n",
       "    </tr>\n",
       "    <tr>\n",
       "      <th>4204</th>\n",
       "      <td>20200930-pro-mCherry-ter_swaps_n2</td>\n",
       "      <td>SC-URA</td>\n",
       "      <td>pSRO9-mCherry-tTOS6_biorep2</td>\n",
       "      <td>13.553741</td>\n",
       "      <td>1.269100</td>\n",
       "      <td>15.00</td>\n",
       "      <td>69.00</td>\n",
       "      <td>NaN</td>\n",
       "      <td>NaN</td>\n",
       "      <td>NaN</td>\n",
       "    </tr>\n",
       "    <tr>\n",
       "      <th>4205</th>\n",
       "      <td>20200930-pro-mCherry-ter_swaps_n2</td>\n",
       "      <td>SC-URA</td>\n",
       "      <td>pSRO9-mCherry-tTOS6_biorep2</td>\n",
       "      <td>13.765454</td>\n",
       "      <td>1.267800</td>\n",
       "      <td>13.00</td>\n",
       "      <td>63.00</td>\n",
       "      <td>NaN</td>\n",
       "      <td>NaN</td>\n",
       "      <td>NaN</td>\n",
       "    </tr>\n",
       "    <tr>\n",
       "      <th>4206</th>\n",
       "      <td>20200930-pro-mCherry-ter_swaps_n2</td>\n",
       "      <td>SC-URA</td>\n",
       "      <td>pSRO9-mCherry-tTOS6_biorep2</td>\n",
       "      <td>13.977222</td>\n",
       "      <td>1.268400</td>\n",
       "      <td>14.00</td>\n",
       "      <td>67.00</td>\n",
       "      <td>NaN</td>\n",
       "      <td>NaN</td>\n",
       "      <td>NaN</td>\n",
       "    </tr>\n",
       "    <tr>\n",
       "      <th>4207</th>\n",
       "      <td>20200930-pro-mCherry-ter_swaps_n2</td>\n",
       "      <td>SC-URA</td>\n",
       "      <td>pSRO9-mCherry-tTOS6_biorep2</td>\n",
       "      <td>14.188991</td>\n",
       "      <td>1.268600</td>\n",
       "      <td>13.00</td>\n",
       "      <td>68.00</td>\n",
       "      <td>NaN</td>\n",
       "      <td>NaN</td>\n",
       "      <td>NaN</td>\n",
       "    </tr>\n",
       "    <tr>\n",
       "      <th>4208</th>\n",
       "      <td>20200930-pro-mCherry-ter_swaps_n2</td>\n",
       "      <td>SC-URA</td>\n",
       "      <td>pSRO9-mCherry-tTOS6_biorep2</td>\n",
       "      <td>14.400769</td>\n",
       "      <td>1.267900</td>\n",
       "      <td>16.00</td>\n",
       "      <td>56.00</td>\n",
       "      <td>NaN</td>\n",
       "      <td>NaN</td>\n",
       "      <td>NaN</td>\n",
       "    </tr>\n",
       "  </tbody>\n",
       "</table>\n",
       "<p>4209 rows × 10 columns</p>\n",
       "</div>"
      ],
      "text/plain": [
       "                             experiment condition  \\\n",
       "0     20200930-pro-mCherry-ter_swaps_n2    SC-URA   \n",
       "1     20200930-pro-mCherry-ter_swaps_n2    SC-URA   \n",
       "2     20200930-pro-mCherry-ter_swaps_n2    SC-URA   \n",
       "3     20200930-pro-mCherry-ter_swaps_n2    SC-URA   \n",
       "4     20200930-pro-mCherry-ter_swaps_n2    SC-URA   \n",
       "...                                 ...       ...   \n",
       "4204  20200930-pro-mCherry-ter_swaps_n2    SC-URA   \n",
       "4205  20200930-pro-mCherry-ter_swaps_n2    SC-URA   \n",
       "4206  20200930-pro-mCherry-ter_swaps_n2    SC-URA   \n",
       "4207  20200930-pro-mCherry-ter_swaps_n2    SC-URA   \n",
       "4208  20200930-pro-mCherry-ter_swaps_n2    SC-URA   \n",
       "\n",
       "                           strain       time   OD mean  mCherry-100 mean  \\\n",
       "0               POT1-ccdB_biorep2   0.000000  0.264850              6.25   \n",
       "1               POT1-ccdB_biorep2   0.211815  0.267325              6.00   \n",
       "2               POT1-ccdB_biorep2   0.423593  0.270625              3.75   \n",
       "3               POT1-ccdB_biorep2   0.635370  0.275075              4.00   \n",
       "4               POT1-ccdB_biorep2   0.847148  0.282000              5.25   \n",
       "...                           ...        ...       ...               ...   \n",
       "4204  pSRO9-mCherry-tTOS6_biorep2  13.553741  1.269100             15.00   \n",
       "4205  pSRO9-mCherry-tTOS6_biorep2  13.765454  1.267800             13.00   \n",
       "4206  pSRO9-mCherry-tTOS6_biorep2  13.977222  1.268400             14.00   \n",
       "4207  pSRO9-mCherry-tTOS6_biorep2  14.188991  1.268600             13.00   \n",
       "4208  pSRO9-mCherry-tTOS6_biorep2  14.400769  1.267900             16.00   \n",
       "\n",
       "      mCherry-120 mean    OD var  mCherry-100 var  mCherry-120 var  \n",
       "0                19.50  0.000039         0.250000         4.333333  \n",
       "1                18.50  0.000034         0.000000         0.333333  \n",
       "2                19.00  0.000048         0.250000         1.333333  \n",
       "3                18.25  0.000040         2.000000         0.916667  \n",
       "4                20.00  0.000026         0.916667         0.000000  \n",
       "...                ...       ...              ...              ...  \n",
       "4204             69.00       NaN              NaN              NaN  \n",
       "4205             63.00       NaN              NaN              NaN  \n",
       "4206             67.00       NaN              NaN              NaN  \n",
       "4207             68.00       NaN              NaN              NaN  \n",
       "4208             56.00       NaN              NaN              NaN  \n",
       "\n",
       "[4209 rows x 10 columns]"
      ]
     },
     "execution_count": 8,
     "metadata": {},
     "output_type": "execute_result"
    }
   ],
   "source": [
    "p.s"
   ]
  },
  {
   "cell_type": "code",
   "execution_count": 9,
   "metadata": {},
   "outputs": [],
   "source": [
    "#p.plot(y= 'OD', plate= True)\n",
    "#p.plot(y= 'mCherry-100', plate= True)"
   ]
  },
  {
   "cell_type": "code",
   "execution_count": 10,
   "metadata": {},
   "outputs": [
    {
     "name": "stdout",
     "output_type": "stream",
     "text": [
      "20200930-pro-mCherry-ter_swaps_n2 :: Correcting for media for OD in SC-URA\n",
      "GP Warning: large data set - 2277 datapoints - may slow optimisation and give memory issues\n",
      "Fitting dilution data for OD correction for non-linearities\n",
      "Using ../../../../data/raw_platereader/promoter_terminator_swaps/mCherry_collection/ODcorrection_Glucose_Haploid.txt\n"
     ]
    },
    {
     "data": {
      "image/png": "[encoded data removed]",
      "text/plain": [
       "<Figure size 432x288 with 1 Axes>"
      ]
     },
     "metadata": {
      "needs_background": "light"
     },
     "output_type": "display_data"
    }
   ],
   "source": [
    "p.correctOD()"
   ]
  },
  {
   "cell_type": "code",
   "execution_count": 11,
   "metadata": {},
   "outputs": [],
   "source": [
    "#p.plot(y= 'mCherry-100', by= 'well')\n"
   ]
  },
  {
   "cell_type": "code",
   "execution_count": 12,
   "metadata": {
    "scrolled": false
   },
   "outputs": [],
   "source": [
    "#sns.relplot(x= 'time', y= 'OD', data= p.r, kind= 'line', hue= 'well', \n",
    "#            col= 'strain')"
   ]
  },
  {
   "cell_type": "code",
   "execution_count": 19,
   "metadata": {},
   "outputs": [
    {
     "name": "stdout",
     "output_type": "stream",
     "text": [
      "\n",
      "Fitting OD for 20200930-pro-mCherry-ter_swaps_n2:: pCLN2-mCherry-tSRO9_biorep2 in SC-URA\n",
      "Taking natural logarithm of the data.\n",
      "Fitting measurement errors.\n",
      "Using a (twice differentiable) Matern covariance function.\n",
      "hparam[0] determines the amplitude of variation\n",
      "hparam[1] determines the stiffness\n",
      "hparam[2] determines the variance of the measurement error\n",
      "log(max likelihood)= 2.518922e+02\n",
      "hparam[0]= 3.408369e-01 [1.000000e-05, 1.000000e+05]\n",
      "hparam[1]= 7.972922e+00 [1.000000e-04, 1.000000e+04]\n",
      "hparam[2]= 1.000000e-05 [1.000000e-05, 1.000000e+02]\n",
      "Warning: hyperparameter 2 is at a lower bound\n",
      "\n",
      "Calculating statistics with 100 samples\n",
      "\t(displaying mean +/- standard deviation [standard error])\n",
      "\n",
      "         max gr= 3.520844e-01 +/- 3.742708e-03 [3.742708e-04]\n",
      " time of max gr= 2.213096e+00 +/- 1.318295e-01 [1.318295e-02]\n",
      "  doubling time= 1.968918e+00 +/- 2.091395e-02 [2.091395e-03]\n",
      "         max OD= 7.095065e-01 +/- 1.222151e-03 [1.222151e-04]\n",
      "       lag time= 6.395689e-01 +/- 1.712154e-02 [1.712154e-03]\n"
     ]
    },
    {
     "data": {
      "image/png": "[encoded data removed]",
      "text/plain": [
       "<Figure size 432x288 with 2 Axes>"
      ]
     },
     "metadata": {
      "needs_background": "light"
     },
     "output_type": "display_data"
    }
   ],
   "source": [
    "p.getstats(strains = \"pCLN2-mCherry-tSRO9_biorep2\") #pgk1-rps3 cln2-sro9"
   ]
  },
  {
   "cell_type": "code",
   "execution_count": 14,
   "metadata": {},
   "outputs": [],
   "source": [
    "#p.sc[['experiment','strain', 'max gr', 'max gr var']].head()"
   ]
  },
  {
   "cell_type": "code",
   "execution_count": 15,
   "metadata": {},
   "outputs": [],
   "source": [
    "#p.plot(y= 'gr', hue= 'strain')"
   ]
  },
  {
   "cell_type": "code",
   "execution_count": 16,
   "metadata": {},
   "outputs": [
    {
     "name": "stdout",
     "output_type": "stream",
     "text": [
      "Using POT1-ccdB_biorep2 as the reference\n",
      "Correcting autofluorescence\n",
      "20200930-pro-mCherry-ter_swaps_n2:: Processing reference strain POT1-ccdB_biorep2 for mCherry-100 in SC-URA\n"
     ]
    },
    {
     "data": {
      "image/png": "[encoded data removed]",
      "text/plain": [
       "<Figure size 432x288 with 1 Axes>"
      ]
     },
     "metadata": {
      "needs_background": "light"
     },
     "output_type": "display_data"
    }
   ],
   "source": [
    "p.correctauto(['mCherry-100'], refstrain= 'POT1-ccdB_biorep2')"
   ]
  },
  {
   "cell_type": "code",
   "execution_count": 20,
   "metadata": {},
   "outputs": [],
   "source": [
    "p.s[[\"experiment\", \"strain\", \"time\", \"OD mean\", \"c-mCherry-100\", \"c-mCherry-100perod\", \"gr\"]].to_csv(\"../../../../data/norm_platereader/promoter_terminator_swaps/mCherry_collection/pro-mCherry-ter_swaps_OD_and_mCherry.csv\", mode = \"a\", header = False)\n",
    "p.sc[[\"experiment\", \"strain\", \"max gr\", \"time of max gr\"]].to_csv(\"../../../../data/norm_platereader/promoter_terminator_swaps/mCherry_collection/pro-mCherry-ter_swaps_max_gr.csv\", mode = \"a\", header = False)"
   ]
  },
  {
   "cell_type": "code",
   "execution_count": null,
   "metadata": {
    "scrolled": true
   },
   "outputs": [],
   "source": [
    "q= om.platereader(wdir= 'data/', ls= False)\n",
    "q.importdf('20200930-pro-mCherry-ter_swaps_n2')"
   ]
  },
  {
   "cell_type": "code",
   "execution_count": null,
   "metadata": {},
   "outputs": [],
   "source": [
    "e= '20200930-pro-mCherry-ter_swaps_n2'\n",
    "# store results as an array of dictionaries to eventually convert into a dataframe\n",
    "results= []\n",
    "for s in p.allstrains[e]:\n",
    "        # find the time of local maximum growth rate for the condition\n",
    "        tm= p.sc.query('strain == @s')['time of local max gr'].values[0]\n",
    "        # take the relevant sub-dataframe for the condition\n",
    "        df= p.s.query('strain == @s')\n",
    "        # find GPF mean at time tm\n",
    "        i= np.argmin(np.abs(df['time'].values - tm))\n",
    "        results.append({'c-mCherry-100 per OD at max local gr' : df['c-mCherry-100perod'][df.index[i]],\n",
    "                     'strain' : s})\n",
    "# convert to dataframe\n",
    "rdf= pd.DataFrame(results)\n",
    "# add to existing dataframe by experiment, condition, and strain\n",
    "p.sc= pd.merge(p.sc, rdf, how= 'outer')"
   ]
  },
  {
   "cell_type": "code",
   "execution_count": null,
   "metadata": {},
   "outputs": [],
   "source": [
    "p.sc[['strain','c-mCherry-100 per OD at max local gr']].to_csv(\"../../../../data/norm_platereader/promoter_terminator_swaps/mCherry_collection/pro-mCherry-ter_swaps_n=2.csv\")"
   ]
  }
 ],
 "metadata": {
  "kernelspec": {
   "display_name": "Python 3 (ipykernel)",
   "language": "python",
   "name": "python3"
  },
  "language_info": {
   "codemirror_mode": {
    "name": "ipython",
    "version": 3
   },
   "file_extension": ".py",
   "mimetype": "text/x-python",
   "name": "python",
   "nbconvert_exporter": "python",
   "pygments_lexer": "ipython3",
   "version": "3.8.5"
  }
 },
 "nbformat": 4,
 "nbformat_minor": 2
}
