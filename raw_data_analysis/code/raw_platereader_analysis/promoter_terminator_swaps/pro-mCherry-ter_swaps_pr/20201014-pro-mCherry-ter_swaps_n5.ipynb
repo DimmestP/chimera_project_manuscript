{
 "cells": [
  {
   "cell_type": "code",
   "execution_count": 1,
   "metadata": {},
   "outputs": [],
   "source": [
    "import numpy as np\n",
    "import matplotlib.pyplot as plt\n",
    "import pandas as pd\n",
    "import seaborn as sns\n",
    "# makes figures look better in Jupyter\n",
    "sns.set_context(\"talk\")"
   ]
  },
  {
   "cell_type": "code",
   "execution_count": 2,
   "metadata": {},
   "outputs": [],
   "source": [
    "import sys \n",
    "from pathlib import Path \n",
    "sys.path.insert(0, str(Path.cwd().parents[1]) + \"/omniplate_platereader_analysis_code\")"
   ]
  },
  {
   "cell_type": "code",
   "execution_count": 3,
   "metadata": {},
   "outputs": [],
   "source": [
    "import omniplate as om"
   ]
  },
  {
   "cell_type": "code",
   "execution_count": 4,
   "metadata": {},
   "outputs": [
    {
     "name": "stdout",
     "output_type": "stream",
     "text": [
      "\n",
      "omniplate version= 0.15\n",
      "Working directory is /home/dimmest-p/Documents/PhD/3UTR_motifs/motifPrediction/chimera_project_manuscript/raw_data_analysis/code/raw_platereader_analysis/promoter_terminator_swaps/pro-mCherry-ter_swaps_pr/../../../../data/raw_platereader/promoter_terminator_swaps/mCherry_collection/\n",
      "Files available are: \n",
      "---\n",
      "20200930-pro-mCherry-ter_swaps_n2.xlsx\n",
      "20200929-pro-mCherry-ter_swaps_n1.xlsx\n",
      "pro-mCherry-ter_swaps_n3_contents.xls\n",
      "pro-mCherry-ter_swaps_n5_contents.xls\n",
      "ODcorrection_Glucose_Haploid.txt\n",
      "20201001-pro-mCherry-ter_swaps_n3_r.json\n",
      "20201001-pro-mCherry-ter_swaps_n3_sc.json\n",
      "20201027-pro-mCherry-ter_swaps_n6.xlsx\n",
      "pro-mCherry-ter_swaps_n2_contents.xls\n",
      "pro-mCherry-ter_swaps_n1_contents.xls\n",
      "20201014-pro-mCherry-ter_swaps_n5.xlsx\n",
      "pro-mCherry-ter_swaps_n4_contents.xls\n",
      "pro-mCherry-ter_swaps_n6_contents.xls\n",
      "20201001-pro-mCherry-ter_swaps_n3_s.json\n",
      "20201002-pro-mCherry-ter_swaps_n4.xlsx\n",
      "20201001-pro-mCherry-ter_swaps_n3.xlsx\n",
      "20201001-pro-mCherry-ter_swaps_n3.log\n"
     ]
    }
   ],
   "source": [
    "p= om.platereader(wdir= '../../../../data/raw_platereader/promoter_terminator_swaps/mCherry_collection/')"
   ]
  },
  {
   "cell_type": "code",
   "execution_count": 5,
   "metadata": {},
   "outputs": [
    {
     "name": "stdout",
     "output_type": "stream",
     "text": [
      "loading 20201014-pro-mCherry-ter_swaps_n5.xlsx\n",
      "\n",
      "Experiment: 20201014-pro-mCherry-ter_swaps_n5 \n",
      "---\n",
      "Conditions:\n",
      "\t SC-URA\n",
      "Strains:\n",
      "\t POT1-ccdB_biorep5\n",
      "\t null\n",
      "\t pCLN2-mCherry-tCLN2_biorep5\n",
      "\t pCLN2-mCherry-tHSP26_biorep5\n",
      "\t pCLN2-mCherry-tPAB1_biorep5\n",
      "\t pCLN2-mCherry-tPGK1_biorep5\n",
      "\t pCLN2-mCherry-tPMA1_biorep5\n",
      "\t pCLN2-mCherry-tRPS13_biorep5\n",
      "\t pCLN2-mCherry-tRPS3_biorep5\n",
      "\t pCLN2-mCherry-tSRO9_biorep5\n",
      "\t pCLN2-mCherry-tSUN4_biorep5\n",
      "\t pCLN2-mCherry-tTOS6_biorep5\n",
      "\t pHSP26-mCherry-tCLN2_biorep5\n",
      "\t pHSP26-mCherry-tHSP26_biorep5\n",
      "\t pHSP26-mCherry-tPAB1_biorep5\n",
      "\t pHSP26-mCherry-tPGK1_biorep5\n",
      "\t pHSP26-mCherry-tPMA1_biorep5\n",
      "\t pHSP26-mCherry-tRPS13_biorep5\n",
      "\t pHSP26-mCherry-tRPS3_biorep5\n",
      "\t pHSP26-mCherry-tSRO9_biorep5\n",
      "\t pHSP26-mCherry-tSUN4_biorep5\n",
      "\t pHSP26-mCherry-tTOS6_biorep5\n",
      "\t pPGK1-mCherry-tCLN2_biorep5\n",
      "\t pPGK1-mCherry-tHSP26_biorep5\n",
      "\t pPGK1-mCherry-tPAB1_biorep5\n",
      "\t pPGK1-mCherry-tPGK1_biorep5\n",
      "\t pPGK1-mCherry-tPMA1_biorep5\n",
      "\t pPGK1-mCherry-tRPS13_biorep5\n",
      "\t pPGK1-mCherry-tRPS3_biorep5\n",
      "\t pPGK1-mCherry-tSRO9_biorep5\n",
      "\t pPGK1-mCherry-tSUN4_biorep5\n",
      "\t pPGK1-mCherry-tTOS6_biorep5\n",
      "\t pRPS13-mCherry-tCLN2_biorep5\n",
      "\t pRPS13-mCherry-tHSP26_biorep5\n",
      "\t pRPS13-mCherry-tPAB1_biorep5\n",
      "\t pRPS13-mCherry-tPGK1_biorep5\n",
      "\t pRPS13-mCherry-tPMA1_biorep5\n",
      "\t pRPS13-mCherry-tRPS13_biorep5\n",
      "\t pRPS13-mCherry-tRPS3_biorep5\n",
      "\t pRPS13-mCherry-tSRO9_biorep5\n",
      "\t pRPS13-mCherry-tSUN4_biorep5\n",
      "\t pRPS13-mCherry-tTOS6_biorep5\n",
      "\t pRPS3-mCherry-tCLN2_biorep5\n",
      "\t pRPS3-mCherry-tHSP26_biorep5\n",
      "\t pRPS3-mCherry-tPAB1_biorep5\n",
      "\t pRPS3-mCherry-tPGK1_biorep5\n",
      "\t pRPS3-mCherry-tPMA1_biorep5\n",
      "\t pRPS3-mCherry-tRPS13_biorep5\n",
      "\t pRPS3-mCherry-tRPS3_biorep5\n",
      "\t pRPS3-mCherry-tSRO9_biorep5\n",
      "\t pRPS3-mCherry-tSUN4_biorep5\n",
      "\t pRPS3-mCherry-tTOS6_biorep5\n",
      "\t pSRO9-mCherry-tCLN2_biorep5\n",
      "\t pSRO9-mCherry-tHSP26_biorep5\n",
      "\t pSRO9-mCherry-tPAB1_biorep5\n",
      "\t pSRO9-mCherry-tPGK1_biorep5\n",
      "\t pSRO9-mCherry-tPMA1_biorep5\n",
      "\t pSRO9-mCherry-tRPS13_biorep5\n",
      "\t pSRO9-mCherry-tRPS3_biorep5\n",
      "\t pSRO9-mCherry-tSRO9_biorep5\n",
      "\t pSRO9-mCherry-tSUN4_biorep5\n",
      "\t pSRO9-mCherry-tTOS6_biorep5\n",
      "Data types:\n",
      "\t OD\n",
      "\t mCherry-100\n",
      "\t mCherry-120\n",
      "Ignored wells:\n",
      "\t None\n"
     ]
    }
   ],
   "source": [
    "p.load('20201014-pro-mCherry-ter_swaps_n5.xlsx', 'pro-mCherry-ter_swaps_n5_contents.xls')"
   ]
  },
  {
   "cell_type": "code",
   "execution_count": 6,
   "metadata": {},
   "outputs": [
    {
     "data": {
      "text/html": [
       "<div>\n",
       "<style scoped>\n",
       "    .dataframe tbody tr th:only-of-type {\n",
       "        vertical-align: middle;\n",
       "    }\n",
       "\n",
       "    .dataframe tbody tr th {\n",
       "        vertical-align: top;\n",
       "    }\n",
       "\n",
       "    .dataframe thead th {\n",
       "        text-align: right;\n",
       "    }\n",
       "</style>\n",
       "<table border=\"1\" class=\"dataframe\">\n",
       "  <thead>\n",
       "    <tr style=\"text-align: right;\">\n",
       "      <th></th>\n",
       "      <th>experiment</th>\n",
       "      <th>condition</th>\n",
       "      <th>strain</th>\n",
       "      <th>time</th>\n",
       "      <th>well</th>\n",
       "      <th>OD</th>\n",
       "      <th>mCherry-100</th>\n",
       "      <th>mCherry-120</th>\n",
       "    </tr>\n",
       "  </thead>\n",
       "  <tbody>\n",
       "    <tr>\n",
       "      <th>0</th>\n",
       "      <td>20201014-pro-mCherry-ter_swaps_n5</td>\n",
       "      <td>SC-URA</td>\n",
       "      <td>null</td>\n",
       "      <td>0.000000</td>\n",
       "      <td>A1</td>\n",
       "      <td>0.0787</td>\n",
       "      <td>9.0</td>\n",
       "      <td>24.0</td>\n",
       "    </tr>\n",
       "    <tr>\n",
       "      <th>1</th>\n",
       "      <td>20201014-pro-mCherry-ter_swaps_n5</td>\n",
       "      <td>SC-URA</td>\n",
       "      <td>null</td>\n",
       "      <td>0.211843</td>\n",
       "      <td>A1</td>\n",
       "      <td>0.0783</td>\n",
       "      <td>9.0</td>\n",
       "      <td>23.0</td>\n",
       "    </tr>\n",
       "    <tr>\n",
       "      <th>2</th>\n",
       "      <td>20201014-pro-mCherry-ter_swaps_n5</td>\n",
       "      <td>SC-URA</td>\n",
       "      <td>null</td>\n",
       "      <td>0.423648</td>\n",
       "      <td>A1</td>\n",
       "      <td>0.0782</td>\n",
       "      <td>9.0</td>\n",
       "      <td>23.0</td>\n",
       "    </tr>\n",
       "    <tr>\n",
       "      <th>3</th>\n",
       "      <td>20201014-pro-mCherry-ter_swaps_n5</td>\n",
       "      <td>SC-URA</td>\n",
       "      <td>null</td>\n",
       "      <td>0.635454</td>\n",
       "      <td>A1</td>\n",
       "      <td>0.0782</td>\n",
       "      <td>5.0</td>\n",
       "      <td>22.0</td>\n",
       "    </tr>\n",
       "    <tr>\n",
       "      <th>4</th>\n",
       "      <td>20201014-pro-mCherry-ter_swaps_n5</td>\n",
       "      <td>SC-URA</td>\n",
       "      <td>null</td>\n",
       "      <td>0.847259</td>\n",
       "      <td>A1</td>\n",
       "      <td>0.0783</td>\n",
       "      <td>5.0</td>\n",
       "      <td>19.0</td>\n",
       "    </tr>\n",
       "  </tbody>\n",
       "</table>\n",
       "</div>"
      ],
      "text/plain": [
       "                          experiment condition strain      time well      OD  \\\n",
       "0  20201014-pro-mCherry-ter_swaps_n5    SC-URA   null  0.000000   A1  0.0787   \n",
       "1  20201014-pro-mCherry-ter_swaps_n5    SC-URA   null  0.211843   A1  0.0783   \n",
       "2  20201014-pro-mCherry-ter_swaps_n5    SC-URA   null  0.423648   A1  0.0782   \n",
       "3  20201014-pro-mCherry-ter_swaps_n5    SC-URA   null  0.635454   A1  0.0782   \n",
       "4  20201014-pro-mCherry-ter_swaps_n5    SC-URA   null  0.847259   A1  0.0783   \n",
       "\n",
       "   mCherry-100  mCherry-120  \n",
       "0          9.0         24.0  \n",
       "1          9.0         23.0  \n",
       "2          9.0         23.0  \n",
       "3          5.0         22.0  \n",
       "4          5.0         19.0  "
      ]
     },
     "execution_count": 6,
     "metadata": {},
     "output_type": "execute_result"
    }
   ],
   "source": [
    "p.r.head()"
   ]
  },
  {
   "cell_type": "code",
   "execution_count": 7,
   "metadata": {},
   "outputs": [
    {
     "data": {
      "text/plain": [
       "Index(['experiment', 'condition', 'strain', 'time', 'well', 'OD',\n",
       "       'mCherry-100', 'mCherry-120'],\n",
       "      dtype='object')"
      ]
     },
     "execution_count": 7,
     "metadata": {},
     "output_type": "execute_result"
    }
   ],
   "source": [
    "p.r.columns"
   ]
  },
  {
   "cell_type": "code",
   "execution_count": 8,
   "metadata": {},
   "outputs": [
    {
     "data": {
      "text/html": [
       "<div>\n",
       "<style scoped>\n",
       "    .dataframe tbody tr th:only-of-type {\n",
       "        vertical-align: middle;\n",
       "    }\n",
       "\n",
       "    .dataframe tbody tr th {\n",
       "        vertical-align: top;\n",
       "    }\n",
       "\n",
       "    .dataframe thead th {\n",
       "        text-align: right;\n",
       "    }\n",
       "</style>\n",
       "<table border=\"1\" class=\"dataframe\">\n",
       "  <thead>\n",
       "    <tr style=\"text-align: right;\">\n",
       "      <th></th>\n",
       "      <th>experiment</th>\n",
       "      <th>condition</th>\n",
       "      <th>strain</th>\n",
       "      <th>time</th>\n",
       "      <th>OD mean</th>\n",
       "      <th>mCherry-100 mean</th>\n",
       "      <th>mCherry-120 mean</th>\n",
       "      <th>OD var</th>\n",
       "      <th>mCherry-100 var</th>\n",
       "      <th>mCherry-120 var</th>\n",
       "    </tr>\n",
       "  </thead>\n",
       "  <tbody>\n",
       "    <tr>\n",
       "      <th>0</th>\n",
       "      <td>20201014-pro-mCherry-ter_swaps_n5</td>\n",
       "      <td>SC-URA</td>\n",
       "      <td>POT1-ccdB_biorep5</td>\n",
       "      <td>0.000000</td>\n",
       "      <td>0.283567</td>\n",
       "      <td>5.666667</td>\n",
       "      <td>19.666667</td>\n",
       "      <td>0.000045</td>\n",
       "      <td>0.333333</td>\n",
       "      <td>2.333333</td>\n",
       "    </tr>\n",
       "    <tr>\n",
       "      <th>1</th>\n",
       "      <td>20201014-pro-mCherry-ter_swaps_n5</td>\n",
       "      <td>SC-URA</td>\n",
       "      <td>POT1-ccdB_biorep5</td>\n",
       "      <td>0.211843</td>\n",
       "      <td>0.294300</td>\n",
       "      <td>8.333333</td>\n",
       "      <td>20.000000</td>\n",
       "      <td>0.000094</td>\n",
       "      <td>0.333333</td>\n",
       "      <td>3.000000</td>\n",
       "    </tr>\n",
       "    <tr>\n",
       "      <th>2</th>\n",
       "      <td>20201014-pro-mCherry-ter_swaps_n5</td>\n",
       "      <td>SC-URA</td>\n",
       "      <td>POT1-ccdB_biorep5</td>\n",
       "      <td>0.423648</td>\n",
       "      <td>0.297267</td>\n",
       "      <td>8.000000</td>\n",
       "      <td>22.333333</td>\n",
       "      <td>0.000110</td>\n",
       "      <td>1.000000</td>\n",
       "      <td>2.333333</td>\n",
       "    </tr>\n",
       "    <tr>\n",
       "      <th>3</th>\n",
       "      <td>20201014-pro-mCherry-ter_swaps_n5</td>\n",
       "      <td>SC-URA</td>\n",
       "      <td>POT1-ccdB_biorep5</td>\n",
       "      <td>0.635454</td>\n",
       "      <td>0.308233</td>\n",
       "      <td>4.666667</td>\n",
       "      <td>18.666667</td>\n",
       "      <td>0.000146</td>\n",
       "      <td>0.333333</td>\n",
       "      <td>1.333333</td>\n",
       "    </tr>\n",
       "    <tr>\n",
       "      <th>4</th>\n",
       "      <td>20201014-pro-mCherry-ter_swaps_n5</td>\n",
       "      <td>SC-URA</td>\n",
       "      <td>POT1-ccdB_biorep5</td>\n",
       "      <td>0.847259</td>\n",
       "      <td>0.320133</td>\n",
       "      <td>4.000000</td>\n",
       "      <td>19.000000</td>\n",
       "      <td>0.000182</td>\n",
       "      <td>1.000000</td>\n",
       "      <td>1.000000</td>\n",
       "    </tr>\n",
       "    <tr>\n",
       "      <th>...</th>\n",
       "      <td>...</td>\n",
       "      <td>...</td>\n",
       "      <td>...</td>\n",
       "      <td>...</td>\n",
       "      <td>...</td>\n",
       "      <td>...</td>\n",
       "      <td>...</td>\n",
       "      <td>...</td>\n",
       "      <td>...</td>\n",
       "      <td>...</td>\n",
       "    </tr>\n",
       "    <tr>\n",
       "      <th>4955</th>\n",
       "      <td>20201014-pro-mCherry-ter_swaps_n5</td>\n",
       "      <td>SC-URA</td>\n",
       "      <td>pSRO9-mCherry-tTOS6_biorep5</td>\n",
       "      <td>15.885120</td>\n",
       "      <td>1.269800</td>\n",
       "      <td>17.000000</td>\n",
       "      <td>65.000000</td>\n",
       "      <td>NaN</td>\n",
       "      <td>NaN</td>\n",
       "      <td>NaN</td>\n",
       "    </tr>\n",
       "    <tr>\n",
       "      <th>4956</th>\n",
       "      <td>20201014-pro-mCherry-ter_swaps_n5</td>\n",
       "      <td>SC-URA</td>\n",
       "      <td>pSRO9-mCherry-tTOS6_biorep5</td>\n",
       "      <td>16.096926</td>\n",
       "      <td>1.270600</td>\n",
       "      <td>15.000000</td>\n",
       "      <td>66.000000</td>\n",
       "      <td>NaN</td>\n",
       "      <td>NaN</td>\n",
       "      <td>NaN</td>\n",
       "    </tr>\n",
       "    <tr>\n",
       "      <th>4957</th>\n",
       "      <td>20201014-pro-mCherry-ter_swaps_n5</td>\n",
       "      <td>SC-URA</td>\n",
       "      <td>pSRO9-mCherry-tTOS6_biorep5</td>\n",
       "      <td>16.308722</td>\n",
       "      <td>1.269700</td>\n",
       "      <td>18.000000</td>\n",
       "      <td>56.000000</td>\n",
       "      <td>NaN</td>\n",
       "      <td>NaN</td>\n",
       "      <td>NaN</td>\n",
       "    </tr>\n",
       "    <tr>\n",
       "      <th>4958</th>\n",
       "      <td>20201014-pro-mCherry-ter_swaps_n5</td>\n",
       "      <td>SC-URA</td>\n",
       "      <td>pSRO9-mCherry-tTOS6_biorep5</td>\n",
       "      <td>16.520509</td>\n",
       "      <td>1.270100</td>\n",
       "      <td>17.000000</td>\n",
       "      <td>70.000000</td>\n",
       "      <td>NaN</td>\n",
       "      <td>NaN</td>\n",
       "      <td>NaN</td>\n",
       "    </tr>\n",
       "    <tr>\n",
       "      <th>4959</th>\n",
       "      <td>20201014-pro-mCherry-ter_swaps_n5</td>\n",
       "      <td>SC-URA</td>\n",
       "      <td>pSRO9-mCherry-tTOS6_biorep5</td>\n",
       "      <td>16.732315</td>\n",
       "      <td>1.270100</td>\n",
       "      <td>15.000000</td>\n",
       "      <td>65.000000</td>\n",
       "      <td>NaN</td>\n",
       "      <td>NaN</td>\n",
       "      <td>NaN</td>\n",
       "    </tr>\n",
       "  </tbody>\n",
       "</table>\n",
       "<p>4960 rows × 10 columns</p>\n",
       "</div>"
      ],
      "text/plain": [
       "                             experiment condition  \\\n",
       "0     20201014-pro-mCherry-ter_swaps_n5    SC-URA   \n",
       "1     20201014-pro-mCherry-ter_swaps_n5    SC-URA   \n",
       "2     20201014-pro-mCherry-ter_swaps_n5    SC-URA   \n",
       "3     20201014-pro-mCherry-ter_swaps_n5    SC-URA   \n",
       "4     20201014-pro-mCherry-ter_swaps_n5    SC-URA   \n",
       "...                                 ...       ...   \n",
       "4955  20201014-pro-mCherry-ter_swaps_n5    SC-URA   \n",
       "4956  20201014-pro-mCherry-ter_swaps_n5    SC-URA   \n",
       "4957  20201014-pro-mCherry-ter_swaps_n5    SC-URA   \n",
       "4958  20201014-pro-mCherry-ter_swaps_n5    SC-URA   \n",
       "4959  20201014-pro-mCherry-ter_swaps_n5    SC-URA   \n",
       "\n",
       "                           strain       time   OD mean  mCherry-100 mean  \\\n",
       "0               POT1-ccdB_biorep5   0.000000  0.283567          5.666667   \n",
       "1               POT1-ccdB_biorep5   0.211843  0.294300          8.333333   \n",
       "2               POT1-ccdB_biorep5   0.423648  0.297267          8.000000   \n",
       "3               POT1-ccdB_biorep5   0.635454  0.308233          4.666667   \n",
       "4               POT1-ccdB_biorep5   0.847259  0.320133          4.000000   \n",
       "...                           ...        ...       ...               ...   \n",
       "4955  pSRO9-mCherry-tTOS6_biorep5  15.885120  1.269800         17.000000   \n",
       "4956  pSRO9-mCherry-tTOS6_biorep5  16.096926  1.270600         15.000000   \n",
       "4957  pSRO9-mCherry-tTOS6_biorep5  16.308722  1.269700         18.000000   \n",
       "4958  pSRO9-mCherry-tTOS6_biorep5  16.520509  1.270100         17.000000   \n",
       "4959  pSRO9-mCherry-tTOS6_biorep5  16.732315  1.270100         15.000000   \n",
       "\n",
       "      mCherry-120 mean    OD var  mCherry-100 var  mCherry-120 var  \n",
       "0            19.666667  0.000045         0.333333         2.333333  \n",
       "1            20.000000  0.000094         0.333333         3.000000  \n",
       "2            22.333333  0.000110         1.000000         2.333333  \n",
       "3            18.666667  0.000146         0.333333         1.333333  \n",
       "4            19.000000  0.000182         1.000000         1.000000  \n",
       "...                ...       ...              ...              ...  \n",
       "4955         65.000000       NaN              NaN              NaN  \n",
       "4956         66.000000       NaN              NaN              NaN  \n",
       "4957         56.000000       NaN              NaN              NaN  \n",
       "4958         70.000000       NaN              NaN              NaN  \n",
       "4959         65.000000       NaN              NaN              NaN  \n",
       "\n",
       "[4960 rows x 10 columns]"
      ]
     },
     "execution_count": 8,
     "metadata": {},
     "output_type": "execute_result"
    }
   ],
   "source": [
    "p.s"
   ]
  },
  {
   "cell_type": "code",
   "execution_count": 9,
   "metadata": {},
   "outputs": [],
   "source": [
    "#p.plot(y= 'OD', plate= True)\n",
    "#p.plot(y= 'mCherry-100', plate= True)"
   ]
  },
  {
   "cell_type": "code",
   "execution_count": 10,
   "metadata": {},
   "outputs": [
    {
     "name": "stdout",
     "output_type": "stream",
     "text": [
      "20201014-pro-mCherry-ter_swaps_n5 :: Correcting for media for OD in SC-URA\n",
      "GP Warning: large data set - 2640 datapoints - may slow optimisation and give memory issues\n",
      " Warning: linear algebra error - trying a different initial condition\n",
      "Fitting dilution data for OD correction for non-linearities\n",
      "Using ../../../../data/raw_platereader/promoter_terminator_swaps/mCherry_collection/ODcorrection_Glucose_Haploid.txt\n"
     ]
    },
    {
     "data": {
      "image/png": "[encoded data removed]",
      "text/plain": [
       "<Figure size 432x288 with 1 Axes>"
      ]
     },
     "metadata": {
      "needs_background": "light"
     },
     "output_type": "display_data"
    }
   ],
   "source": [
    "p.correctOD()"
   ]
  },
  {
   "cell_type": "code",
   "execution_count": 11,
   "metadata": {},
   "outputs": [],
   "source": [
    "#p.plot(y= 'mCherry-100', by= 'well')\n"
   ]
  },
  {
   "cell_type": "code",
   "execution_count": 12,
   "metadata": {
    "scrolled": false
   },
   "outputs": [],
   "source": [
    "#sns.relplot(x= 'time', y= 'OD', data= p.r, kind= 'line', hue= 'well', \n",
    "#            col= 'strain')"
   ]
  },
  {
   "cell_type": "code",
   "execution_count": 17,
   "metadata": {},
   "outputs": [
    {
     "name": "stdout",
     "output_type": "stream",
     "text": [
      "\n",
      "Fitting OD for 20201014-pro-mCherry-ter_swaps_n5:: pRPS13-mCherry-tRPS13_biorep5 in SC-URA\n",
      "Taking natural logarithm of the data.\n",
      "Fitting measurement errors.\n",
      "Using a (twice differentiable) Matern covariance function.\n",
      "hparam[0] determines the amplitude of variation\n",
      "hparam[1] determines the stiffness\n",
      "hparam[2] determines the variance of the measurement error\n",
      "log(max likelihood)= 2.962110e+02\n",
      "hparam[0]= 5.771600e+00 [1.000000e-05, 1.000000e+05]\n",
      "hparam[1]= 1.311639e+01 [1.000000e-04, 1.000000e+04]\n",
      "hparam[2]= 1.000000e-05 [1.000000e-05, 1.000000e+02]\n",
      "Warning: hyperparameter 2 is at a lower bound\n",
      "\n",
      "Calculating statistics with 100 samples\n",
      "\t(displaying mean +/- standard deviation [standard error])\n",
      "\n",
      "         max gr= 3.715651e-01 +/- 3.406746e-03 [3.406746e-04]\n",
      " time of max gr= 2.279025e+00 +/- 1.943923e-01 [1.943923e-02]\n",
      "  doubling time= 1.865636e+00 +/- 1.698798e-02 [1.698798e-03]\n",
      "         max OD= 7.523774e-01 +/- 9.781610e-04 [9.781610e-05]\n",
      "       lag time= 5.544786e-01 +/- 1.727734e-02 [1.727734e-03]\n"
     ]
    },
    {
     "data": {
      "image/png": "[encoded data removed]",
      "text/plain": [
       "<Figure size 432x288 with 2 Axes>"
      ]
     },
     "metadata": {
      "needs_background": "light"
     },
     "output_type": "display_data"
    }
   ],
   "source": [
    "p.getstats(strains = \"pRPS13-mCherry-tRPS13_biorep5\") # rps13-rps13"
   ]
  },
  {
   "cell_type": "code",
   "execution_count": 14,
   "metadata": {},
   "outputs": [],
   "source": [
    "#p.sc[['experiment','strain', 'max gr', 'max gr var']].head()"
   ]
  },
  {
   "cell_type": "code",
   "execution_count": 15,
   "metadata": {},
   "outputs": [],
   "source": [
    "#p.plot(y= 'gr', hue= 'strain')"
   ]
  },
  {
   "cell_type": "code",
   "execution_count": 16,
   "metadata": {},
   "outputs": [
    {
     "name": "stdout",
     "output_type": "stream",
     "text": [
      "Using POT1-ccdB_biorep5 as the reference\n",
      "Correcting autofluorescence\n",
      "20201014-pro-mCherry-ter_swaps_n5:: Processing reference strain POT1-ccdB_biorep5 for mCherry-100 in SC-URA\n"
     ]
    },
    {
     "data": {
      "image/png": "[encoded data removed]",
      "text/plain": [
       "<Figure size 432x288 with 1 Axes>"
      ]
     },
     "metadata": {
      "needs_background": "light"
     },
     "output_type": "display_data"
    }
   ],
   "source": [
    "p.correctauto(['mCherry-100'], refstrain= 'POT1-ccdB_biorep5')"
   ]
  },
  {
   "cell_type": "code",
   "execution_count": 18,
   "metadata": {},
   "outputs": [],
   "source": [
    "p.s[[\"experiment\", \"strain\", \"time\", \"OD mean\", \"c-mCherry-100\", \"c-mCherry-100perod\", \"gr\"]].to_csv(\"../../../../data/norm_platereader/promoter_terminator_swaps/mCherry_collection/pro-mCherry-ter_swaps_OD_and_mCherry.csv\", mode = \"a\", header = False)\n",
    "p.sc[[\"experiment\", \"strain\", \"max gr\", \"time of max gr\"]].to_csv(\"../../../../data/norm_platereader/promoter_terminator_swaps/mCherry_collection/pro-mCherry-ter_swaps_max_gr.csv\", mode = \"a\", header = False)"
   ]
  },
  {
   "cell_type": "code",
   "execution_count": null,
   "metadata": {
    "scrolled": true
   },
   "outputs": [],
   "source": [
    "q= om.platereader(wdir= 'data/', ls= False)\n",
    "q.importdf('20201014-pro-mCherry-ter_swaps_n5')"
   ]
  },
  {
   "cell_type": "code",
   "execution_count": null,
   "metadata": {},
   "outputs": [],
   "source": [
    "e= '20201014-pro-mCherry-ter_swaps_n5'\n",
    "# store results as an array of dictionaries to eventually convert into a dataframe\n",
    "results= []\n",
    "for s in p.allstrains[e]:\n",
    "        # find the time of local maximum growth rate for the condition\n",
    "        tm= p.sc.query('strain == @s')['time of local max gr'].values[0]\n",
    "        # take the relevant sub-dataframe for the condition\n",
    "        df= p.s.query('strain == @s')\n",
    "        # find GPF mean at time tm\n",
    "        i= np.argmin(np.abs(df['time'].values - tm))\n",
    "        results.append({'c-mCherry-100 per OD at max local gr' : df['c-mCherry-100perod'][df.index[i]],\n",
    "                     'strain' : s})\n",
    "# convert to dataframe\n",
    "rdf= pd.DataFrame(results)\n",
    "# add to existing dataframe by experiment, condition, and strain\n",
    "p.sc= pd.merge(p.sc, rdf, how= 'outer')"
   ]
  },
  {
   "cell_type": "code",
   "execution_count": null,
   "metadata": {},
   "outputs": [],
   "source": [
    "p.sc[['strain','c-mCherry-100 per OD at max local gr']].to_csv(\"../../../../data/norm_platereader/promoter_terminator_swaps/mCherry_collection/pro-mCherry-ter_swaps_n=5.csv\")"
   ]
  }
 ],
 "metadata": {
  "kernelspec": {
   "display_name": "Python 3 (ipykernel)",
   "language": "python",
   "name": "python3"
  },
  "language_info": {
   "codemirror_mode": {
    "name": "ipython",
    "version": 3
   },
   "file_extension": ".py",
   "mimetype": "text/x-python",
   "name": "python",
   "nbconvert_exporter": "python",
   "pygments_lexer": "ipython3",
   "version": "3.8.5"
  }
 },
 "nbformat": 4,
 "nbformat_minor": 2
}
