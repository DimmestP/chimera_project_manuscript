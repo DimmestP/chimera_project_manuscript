{
 "cells": [
  {
   "cell_type": "code",
   "execution_count": 1,
   "metadata": {},
   "outputs": [],
   "source": [
    "import numpy as np\n",
    "import matplotlib.pyplot as plt\n",
    "import pandas as pd\n",
    "import seaborn as sns\n",
    "# makes figures look better in Jupyter\n",
    "sns.set_context(\"talk\")"
   ]
  },
  {
   "cell_type": "code",
   "execution_count": 2,
   "metadata": {},
   "outputs": [],
   "source": [
    "import sys \n",
    "from pathlib import Path \n",
    "sys.path.insert(0, str(Path.cwd().parents[1]) + \"/omniplate_platereader_analysis_code\")"
   ]
  },
  {
   "cell_type": "code",
   "execution_count": 3,
   "metadata": {},
   "outputs": [],
   "source": [
    "import omniplate as om"
   ]
  },
  {
   "cell_type": "code",
   "execution_count": 4,
   "metadata": {},
   "outputs": [
    {
     "name": "stdout",
     "output_type": "stream",
     "text": [
      "\n",
      "omniplate version= 0.15\n",
      "Working directory is /home/dimmest-p/Documents/PhD/3UTR_motifs/motifPrediction/chimera_project_manuscript/raw_data_analysis/code/raw_platereader_analysis/promoter_terminator_swaps/pro-mCherry-ter_swaps_pr/../../../../data/raw_platereader/promoter_terminator_swaps/mCherry_collection/\n",
      "Files available are: \n",
      "---\n",
      "20200930-pro-mCherry-ter_swaps_n2.xlsx\n",
      "20200929-pro-mCherry-ter_swaps_n1.xlsx\n",
      "pro-mCherry-ter_swaps_n3_contents.xls\n",
      "pro-mCherry-ter_swaps_n5_contents.xls\n",
      "ODcorrection_Glucose_Haploid.txt\n",
      "20201001-pro-mCherry-ter_swaps_n3_r.json\n",
      "20201001-pro-mCherry-ter_swaps_n3_sc.json\n",
      "20201027-pro-mCherry-ter_swaps_n6.xlsx\n",
      "pro-mCherry-ter_swaps_n2_contents.xls\n",
      "pro-mCherry-ter_swaps_n1_contents.xls\n",
      "20201014-pro-mCherry-ter_swaps_n5.xlsx\n",
      "pro-mCherry-ter_swaps_n4_contents.xls\n",
      "pro-mCherry-ter_swaps_n6_contents.xls\n",
      "20201001-pro-mCherry-ter_swaps_n3_s.json\n",
      "20201002-pro-mCherry-ter_swaps_n4.xlsx\n",
      "20201001-pro-mCherry-ter_swaps_n3.xlsx\n",
      "20201001-pro-mCherry-ter_swaps_n3.log\n"
     ]
    }
   ],
   "source": [
    "p= om.platereader(wdir= '../../../../data/raw_platereader/promoter_terminator_swaps/mCherry_collection/')"
   ]
  },
  {
   "cell_type": "code",
   "execution_count": 5,
   "metadata": {},
   "outputs": [
    {
     "name": "stdout",
     "output_type": "stream",
     "text": [
      "loading 20201027-pro-mCherry-ter_swaps_n6.xlsx\n",
      "\n",
      "Experiment: 20201027-pro-mCherry-ter_swaps_n6 \n",
      "---\n",
      "Conditions:\n",
      "\t SC-URA\n",
      "Strains:\n",
      "\t POT1-ccdB_biorep6\n",
      "\t null\n",
      "\t pHSP26-mCherry-tCLN2_biorep6\n",
      "\t pHSP26-mCherry-tCLN2_biorep7\n",
      "\t pHSP26-mCherry-tCLN2_biorep8\n",
      "\t pHSP26-mCherry-tHSP26_biorep6\n",
      "\t pHSP26-mCherry-tHSP26_biorep7\n",
      "\t pHSP26-mCherry-tHSP26_biorep8\n",
      "\t pHSP26-mCherry-tPAB1_biorep6\n",
      "\t pHSP26-mCherry-tPAB1_biorep7\n",
      "\t pHSP26-mCherry-tPAB1_biorep8\n",
      "\t pHSP26-mCherry-tPGK1_biorep6\n",
      "\t pHSP26-mCherry-tPGK1_biorep7\n",
      "\t pHSP26-mCherry-tPGK1_biorep8\n",
      "\t pHSP26-mCherry-tPMA1_biorep6\n",
      "\t pHSP26-mCherry-tPMA1_biorep7\n",
      "\t pHSP26-mCherry-tPMA1_biorep8\n",
      "\t pHSP26-mCherry-tRPS13_biorep6\n",
      "\t pHSP26-mCherry-tRPS13_biorep7\n",
      "\t pHSP26-mCherry-tRPS13_biorep8\n",
      "\t pHSP26-mCherry-tRPS3_biorep6\n",
      "\t pHSP26-mCherry-tRPS3_biorep7\n",
      "\t pHSP26-mCherry-tRPS3_biorep8\n",
      "\t pHSP26-mCherry-tSRO9_biorep6\n",
      "\t pHSP26-mCherry-tSRO9_biorep7\n",
      "\t pHSP26-mCherry-tSRO9_biorep8\n",
      "\t pHSP26-mCherry-tSUN4_biorep6\n",
      "\t pHSP26-mCherry-tSUN4_biorep7\n",
      "\t pHSP26-mCherry-tSUN4_biorep8\n",
      "\t pHSP26-mCherry-tTOS6_biorep6\n",
      "\t pHSP26-mCherry-tTOS6_biorep7\n",
      "\t pHSP26-mCherry-tTOS6_biorep8\n",
      "\t pHSP26-mCherry-tTOS6_biorep9\n",
      "\t pPGK1-mCherry-tCLN2_biorep6\n",
      "\t pPGK1-mCherry-tHSP26_biorep6\n",
      "\t pPGK1-mCherry-tPAB1_biorep6\n",
      "\t pPGK1-mCherry-tPGK1_biorep6\n",
      "\t pPGK1-mCherry-tPMA1_biorep6\n",
      "\t pPGK1-mCherry-tRPS13_biorep6\n",
      "\t pPGK1-mCherry-tRPS3_biorep6\n",
      "\t pPGK1-mCherry-tSRO9_biorep6\n",
      "\t pPGK1-mCherry-tSUN4_biorep6\n",
      "\t pPGK1-mCherry-tTOS6_biorep6\n",
      "\t pRPS13-mCherry-tCLN2_biorep6\n",
      "\t pRPS13-mCherry-tHSP26_biorep6\n",
      "\t pRPS13-mCherry-tPAB1_biorep6\n",
      "\t pRPS13-mCherry-tPGK1_biorep6\n",
      "\t pRPS13-mCherry-tPMA1_biorep6\n",
      "\t pRPS13-mCherry-tRPS13_biorep6\n",
      "\t pRPS13-mCherry-tRPS3_biorep6\n",
      "\t pRPS13-mCherry-tSRO9_biorep6\n",
      "\t pRPS13-mCherry-tSUN4_biorep6\n",
      "\t pRPS13-mCherry-tTOS6_biorep6\n",
      "\t pRPS3-mCherry-tCLN2_biorep6_biorep6\n",
      "\t pRPS3-mCherry-tHSP26_biorep6\n",
      "\t pRPS3-mCherry-tPAB1_biorep6\n",
      "\t pRPS3-mCherry-tPGK1_biorep6\n",
      "\t pRPS3-mCherry-tPMA1_biorep6\n",
      "\t pRPS3-mCherry-tRPS13_biorep6\n",
      "\t pRPS3-mCherry-tRPS3_biorep6\n",
      "\t pRPS3-mCherry-tSRO9_biorep6\n",
      "\t pRPS3-mCherry-tSUN4_biorep6\n",
      "\t pRPS3-mCherry-tTOS6_biorep6\n",
      "Data types:\n",
      "\t OD\n",
      "\t mCherry-100\n",
      "\t mCherry-120\n",
      "Ignored wells:\n",
      "\t None\n"
     ]
    }
   ],
   "source": [
    "p.load('20201027-pro-mCherry-ter_swaps_n6.xlsx', 'pro-mCherry-ter_swaps_n6_contents.xls')"
   ]
  },
  {
   "cell_type": "code",
   "execution_count": 6,
   "metadata": {},
   "outputs": [
    {
     "data": {
      "text/html": [
       "<div>\n",
       "<style scoped>\n",
       "    .dataframe tbody tr th:only-of-type {\n",
       "        vertical-align: middle;\n",
       "    }\n",
       "\n",
       "    .dataframe tbody tr th {\n",
       "        vertical-align: top;\n",
       "    }\n",
       "\n",
       "    .dataframe thead th {\n",
       "        text-align: right;\n",
       "    }\n",
       "</style>\n",
       "<table border=\"1\" class=\"dataframe\">\n",
       "  <thead>\n",
       "    <tr style=\"text-align: right;\">\n",
       "      <th></th>\n",
       "      <th>experiment</th>\n",
       "      <th>condition</th>\n",
       "      <th>strain</th>\n",
       "      <th>time</th>\n",
       "      <th>well</th>\n",
       "      <th>OD</th>\n",
       "      <th>mCherry-100</th>\n",
       "      <th>mCherry-120</th>\n",
       "    </tr>\n",
       "  </thead>\n",
       "  <tbody>\n",
       "    <tr>\n",
       "      <th>0</th>\n",
       "      <td>20201027-pro-mCherry-ter_swaps_n6</td>\n",
       "      <td>SC-URA</td>\n",
       "      <td>null</td>\n",
       "      <td>0.000000</td>\n",
       "      <td>A1</td>\n",
       "      <td>0.0797</td>\n",
       "      <td>6.0</td>\n",
       "      <td>26.0</td>\n",
       "    </tr>\n",
       "    <tr>\n",
       "      <th>1</th>\n",
       "      <td>20201027-pro-mCherry-ter_swaps_n6</td>\n",
       "      <td>SC-URA</td>\n",
       "      <td>null</td>\n",
       "      <td>0.211759</td>\n",
       "      <td>A1</td>\n",
       "      <td>0.0805</td>\n",
       "      <td>8.0</td>\n",
       "      <td>28.0</td>\n",
       "    </tr>\n",
       "    <tr>\n",
       "      <th>2</th>\n",
       "      <td>20201027-pro-mCherry-ter_swaps_n6</td>\n",
       "      <td>SC-URA</td>\n",
       "      <td>null</td>\n",
       "      <td>0.423481</td>\n",
       "      <td>A1</td>\n",
       "      <td>0.0805</td>\n",
       "      <td>10.0</td>\n",
       "      <td>24.0</td>\n",
       "    </tr>\n",
       "    <tr>\n",
       "      <th>3</th>\n",
       "      <td>20201027-pro-mCherry-ter_swaps_n6</td>\n",
       "      <td>SC-URA</td>\n",
       "      <td>null</td>\n",
       "      <td>0.635213</td>\n",
       "      <td>A1</td>\n",
       "      <td>0.0808</td>\n",
       "      <td>5.0</td>\n",
       "      <td>22.0</td>\n",
       "    </tr>\n",
       "    <tr>\n",
       "      <th>4</th>\n",
       "      <td>20201027-pro-mCherry-ter_swaps_n6</td>\n",
       "      <td>SC-URA</td>\n",
       "      <td>null</td>\n",
       "      <td>0.846926</td>\n",
       "      <td>A1</td>\n",
       "      <td>0.0806</td>\n",
       "      <td>6.0</td>\n",
       "      <td>23.0</td>\n",
       "    </tr>\n",
       "  </tbody>\n",
       "</table>\n",
       "</div>"
      ],
      "text/plain": [
       "                          experiment condition strain      time well      OD  \\\n",
       "0  20201027-pro-mCherry-ter_swaps_n6    SC-URA   null  0.000000   A1  0.0797   \n",
       "1  20201027-pro-mCherry-ter_swaps_n6    SC-URA   null  0.211759   A1  0.0805   \n",
       "2  20201027-pro-mCherry-ter_swaps_n6    SC-URA   null  0.423481   A1  0.0805   \n",
       "3  20201027-pro-mCherry-ter_swaps_n6    SC-URA   null  0.635213   A1  0.0808   \n",
       "4  20201027-pro-mCherry-ter_swaps_n6    SC-URA   null  0.846926   A1  0.0806   \n",
       "\n",
       "   mCherry-100  mCherry-120  \n",
       "0          6.0         26.0  \n",
       "1          8.0         28.0  \n",
       "2         10.0         24.0  \n",
       "3          5.0         22.0  \n",
       "4          6.0         23.0  "
      ]
     },
     "execution_count": 6,
     "metadata": {},
     "output_type": "execute_result"
    }
   ],
   "source": [
    "p.r.head()"
   ]
  },
  {
   "cell_type": "code",
   "execution_count": 7,
   "metadata": {},
   "outputs": [
    {
     "data": {
      "text/plain": [
       "Index(['experiment', 'condition', 'strain', 'time', 'well', 'OD',\n",
       "       'mCherry-100', 'mCherry-120'],\n",
       "      dtype='object')"
      ]
     },
     "execution_count": 7,
     "metadata": {},
     "output_type": "execute_result"
    }
   ],
   "source": [
    "p.r.columns"
   ]
  },
  {
   "cell_type": "code",
   "execution_count": 8,
   "metadata": {},
   "outputs": [
    {
     "data": {
      "text/html": [
       "<div>\n",
       "<style scoped>\n",
       "    .dataframe tbody tr th:only-of-type {\n",
       "        vertical-align: middle;\n",
       "    }\n",
       "\n",
       "    .dataframe tbody tr th {\n",
       "        vertical-align: top;\n",
       "    }\n",
       "\n",
       "    .dataframe thead th {\n",
       "        text-align: right;\n",
       "    }\n",
       "</style>\n",
       "<table border=\"1\" class=\"dataframe\">\n",
       "  <thead>\n",
       "    <tr style=\"text-align: right;\">\n",
       "      <th></th>\n",
       "      <th>experiment</th>\n",
       "      <th>condition</th>\n",
       "      <th>strain</th>\n",
       "      <th>time</th>\n",
       "      <th>OD mean</th>\n",
       "      <th>mCherry-100 mean</th>\n",
       "      <th>mCherry-120 mean</th>\n",
       "      <th>OD var</th>\n",
       "      <th>mCherry-100 var</th>\n",
       "      <th>mCherry-120 var</th>\n",
       "    </tr>\n",
       "  </thead>\n",
       "  <tbody>\n",
       "    <tr>\n",
       "      <th>0</th>\n",
       "      <td>20201027-pro-mCherry-ter_swaps_n6</td>\n",
       "      <td>SC-URA</td>\n",
       "      <td>POT1-ccdB_biorep6</td>\n",
       "      <td>0.000000</td>\n",
       "      <td>0.203767</td>\n",
       "      <td>5.333333</td>\n",
       "      <td>19.666667</td>\n",
       "      <td>0.000036</td>\n",
       "      <td>0.333333</td>\n",
       "      <td>12.333333</td>\n",
       "    </tr>\n",
       "    <tr>\n",
       "      <th>1</th>\n",
       "      <td>20201027-pro-mCherry-ter_swaps_n6</td>\n",
       "      <td>SC-URA</td>\n",
       "      <td>POT1-ccdB_biorep6</td>\n",
       "      <td>0.211759</td>\n",
       "      <td>0.207100</td>\n",
       "      <td>6.666667</td>\n",
       "      <td>22.000000</td>\n",
       "      <td>0.000042</td>\n",
       "      <td>0.333333</td>\n",
       "      <td>7.000000</td>\n",
       "    </tr>\n",
       "    <tr>\n",
       "      <th>2</th>\n",
       "      <td>20201027-pro-mCherry-ter_swaps_n6</td>\n",
       "      <td>SC-URA</td>\n",
       "      <td>POT1-ccdB_biorep6</td>\n",
       "      <td>0.423481</td>\n",
       "      <td>0.211100</td>\n",
       "      <td>7.333333</td>\n",
       "      <td>19.333333</td>\n",
       "      <td>0.000040</td>\n",
       "      <td>0.333333</td>\n",
       "      <td>2.333333</td>\n",
       "    </tr>\n",
       "    <tr>\n",
       "      <th>3</th>\n",
       "      <td>20201027-pro-mCherry-ter_swaps_n6</td>\n",
       "      <td>SC-URA</td>\n",
       "      <td>POT1-ccdB_biorep6</td>\n",
       "      <td>0.635213</td>\n",
       "      <td>0.216400</td>\n",
       "      <td>4.000000</td>\n",
       "      <td>18.000000</td>\n",
       "      <td>0.000069</td>\n",
       "      <td>0.000000</td>\n",
       "      <td>1.000000</td>\n",
       "    </tr>\n",
       "    <tr>\n",
       "      <th>4</th>\n",
       "      <td>20201027-pro-mCherry-ter_swaps_n6</td>\n",
       "      <td>SC-URA</td>\n",
       "      <td>POT1-ccdB_biorep6</td>\n",
       "      <td>0.846926</td>\n",
       "      <td>0.219700</td>\n",
       "      <td>4.000000</td>\n",
       "      <td>17.666667</td>\n",
       "      <td>0.000055</td>\n",
       "      <td>1.000000</td>\n",
       "      <td>0.333333</td>\n",
       "    </tr>\n",
       "    <tr>\n",
       "      <th>...</th>\n",
       "      <td>...</td>\n",
       "      <td>...</td>\n",
       "      <td>...</td>\n",
       "      <td>...</td>\n",
       "      <td>...</td>\n",
       "      <td>...</td>\n",
       "      <td>...</td>\n",
       "      <td>...</td>\n",
       "      <td>...</td>\n",
       "      <td>...</td>\n",
       "    </tr>\n",
       "    <tr>\n",
       "      <th>5035</th>\n",
       "      <td>20201027-pro-mCherry-ter_swaps_n6</td>\n",
       "      <td>SC-URA</td>\n",
       "      <td>pRPS3-mCherry-tTOS6_biorep6</td>\n",
       "      <td>15.879241</td>\n",
       "      <td>1.259500</td>\n",
       "      <td>512.000000</td>\n",
       "      <td>2001.000000</td>\n",
       "      <td>NaN</td>\n",
       "      <td>NaN</td>\n",
       "      <td>NaN</td>\n",
       "    </tr>\n",
       "    <tr>\n",
       "      <th>5036</th>\n",
       "      <td>20201027-pro-mCherry-ter_swaps_n6</td>\n",
       "      <td>SC-URA</td>\n",
       "      <td>pRPS3-mCherry-tTOS6_biorep6</td>\n",
       "      <td>16.090963</td>\n",
       "      <td>1.260200</td>\n",
       "      <td>506.000000</td>\n",
       "      <td>1982.000000</td>\n",
       "      <td>NaN</td>\n",
       "      <td>NaN</td>\n",
       "      <td>NaN</td>\n",
       "    </tr>\n",
       "    <tr>\n",
       "      <th>5037</th>\n",
       "      <td>20201027-pro-mCherry-ter_swaps_n6</td>\n",
       "      <td>SC-URA</td>\n",
       "      <td>pRPS3-mCherry-tTOS6_biorep6</td>\n",
       "      <td>16.302685</td>\n",
       "      <td>1.260900</td>\n",
       "      <td>500.000000</td>\n",
       "      <td>1976.000000</td>\n",
       "      <td>NaN</td>\n",
       "      <td>NaN</td>\n",
       "      <td>NaN</td>\n",
       "    </tr>\n",
       "    <tr>\n",
       "      <th>5038</th>\n",
       "      <td>20201027-pro-mCherry-ter_swaps_n6</td>\n",
       "      <td>SC-URA</td>\n",
       "      <td>pRPS3-mCherry-tTOS6_biorep6</td>\n",
       "      <td>16.514398</td>\n",
       "      <td>1.260900</td>\n",
       "      <td>499.000000</td>\n",
       "      <td>1980.000000</td>\n",
       "      <td>NaN</td>\n",
       "      <td>NaN</td>\n",
       "      <td>NaN</td>\n",
       "    </tr>\n",
       "    <tr>\n",
       "      <th>5039</th>\n",
       "      <td>20201027-pro-mCherry-ter_swaps_n6</td>\n",
       "      <td>SC-URA</td>\n",
       "      <td>pRPS3-mCherry-tTOS6_biorep6</td>\n",
       "      <td>16.726120</td>\n",
       "      <td>1.260700</td>\n",
       "      <td>490.000000</td>\n",
       "      <td>1992.000000</td>\n",
       "      <td>NaN</td>\n",
       "      <td>NaN</td>\n",
       "      <td>NaN</td>\n",
       "    </tr>\n",
       "  </tbody>\n",
       "</table>\n",
       "<p>5040 rows × 10 columns</p>\n",
       "</div>"
      ],
      "text/plain": [
       "                             experiment condition  \\\n",
       "0     20201027-pro-mCherry-ter_swaps_n6    SC-URA   \n",
       "1     20201027-pro-mCherry-ter_swaps_n6    SC-URA   \n",
       "2     20201027-pro-mCherry-ter_swaps_n6    SC-URA   \n",
       "3     20201027-pro-mCherry-ter_swaps_n6    SC-URA   \n",
       "4     20201027-pro-mCherry-ter_swaps_n6    SC-URA   \n",
       "...                                 ...       ...   \n",
       "5035  20201027-pro-mCherry-ter_swaps_n6    SC-URA   \n",
       "5036  20201027-pro-mCherry-ter_swaps_n6    SC-URA   \n",
       "5037  20201027-pro-mCherry-ter_swaps_n6    SC-URA   \n",
       "5038  20201027-pro-mCherry-ter_swaps_n6    SC-URA   \n",
       "5039  20201027-pro-mCherry-ter_swaps_n6    SC-URA   \n",
       "\n",
       "                           strain       time   OD mean  mCherry-100 mean  \\\n",
       "0               POT1-ccdB_biorep6   0.000000  0.203767          5.333333   \n",
       "1               POT1-ccdB_biorep6   0.211759  0.207100          6.666667   \n",
       "2               POT1-ccdB_biorep6   0.423481  0.211100          7.333333   \n",
       "3               POT1-ccdB_biorep6   0.635213  0.216400          4.000000   \n",
       "4               POT1-ccdB_biorep6   0.846926  0.219700          4.000000   \n",
       "...                           ...        ...       ...               ...   \n",
       "5035  pRPS3-mCherry-tTOS6_biorep6  15.879241  1.259500        512.000000   \n",
       "5036  pRPS3-mCherry-tTOS6_biorep6  16.090963  1.260200        506.000000   \n",
       "5037  pRPS3-mCherry-tTOS6_biorep6  16.302685  1.260900        500.000000   \n",
       "5038  pRPS3-mCherry-tTOS6_biorep6  16.514398  1.260900        499.000000   \n",
       "5039  pRPS3-mCherry-tTOS6_biorep6  16.726120  1.260700        490.000000   \n",
       "\n",
       "      mCherry-120 mean    OD var  mCherry-100 var  mCherry-120 var  \n",
       "0            19.666667  0.000036         0.333333        12.333333  \n",
       "1            22.000000  0.000042         0.333333         7.000000  \n",
       "2            19.333333  0.000040         0.333333         2.333333  \n",
       "3            18.000000  0.000069         0.000000         1.000000  \n",
       "4            17.666667  0.000055         1.000000         0.333333  \n",
       "...                ...       ...              ...              ...  \n",
       "5035       2001.000000       NaN              NaN              NaN  \n",
       "5036       1982.000000       NaN              NaN              NaN  \n",
       "5037       1976.000000       NaN              NaN              NaN  \n",
       "5038       1980.000000       NaN              NaN              NaN  \n",
       "5039       1992.000000       NaN              NaN              NaN  \n",
       "\n",
       "[5040 rows x 10 columns]"
      ]
     },
     "execution_count": 8,
     "metadata": {},
     "output_type": "execute_result"
    }
   ],
   "source": [
    "p.s"
   ]
  },
  {
   "cell_type": "code",
   "execution_count": 9,
   "metadata": {},
   "outputs": [],
   "source": [
    "#p.plot(y= 'OD', plate= True)\n",
    "#p.plot(y= 'mCherry-100', plate= True)"
   ]
  },
  {
   "cell_type": "code",
   "execution_count": 10,
   "metadata": {},
   "outputs": [
    {
     "name": "stdout",
     "output_type": "stream",
     "text": [
      "20201027-pro-mCherry-ter_swaps_n6 :: Correcting for media for OD in SC-URA\n",
      "GP Warning: large data set - 2560 datapoints - may slow optimisation and give memory issues\n",
      "Fitting dilution data for OD correction for non-linearities\n",
      "Using ../../../../data/raw_platereader/promoter_terminator_swaps/mCherry_collection/ODcorrection_Glucose_Haploid.txt\n"
     ]
    },
    {
     "data": {
      "image/png": "[encoded data removed]",
      "text/plain": [
       "<Figure size 432x288 with 1 Axes>"
      ]
     },
     "metadata": {
      "needs_background": "light"
     },
     "output_type": "display_data"
    }
   ],
   "source": [
    "p.correctOD()"
   ]
  },
  {
   "cell_type": "code",
   "execution_count": 11,
   "metadata": {},
   "outputs": [],
   "source": [
    "#p.plot(y= 'mCherry-100', by= 'well')\n"
   ]
  },
  {
   "cell_type": "code",
   "execution_count": 12,
   "metadata": {
    "scrolled": false
   },
   "outputs": [],
   "source": [
    "#sns.relplot(x= 'time', y= 'OD', data= p.r, kind= 'line', hue= 'well', \n",
    "#            col= 'strain')"
   ]
  },
  {
   "cell_type": "code",
   "execution_count": 22,
   "metadata": {},
   "outputs": [
    {
     "name": "stdout",
     "output_type": "stream",
     "text": [
      "\n",
      "Fitting OD for 20201027-pro-mCherry-ter_swaps_n6:: pRPS3-mCherry-tCLN2_biorep6_biorep6 in SC-URA\n",
      "Taking natural logarithm of the data.\n",
      "Fitting measurement errors.\n",
      "Using a (twice differentiable) Matern covariance function.\n",
      "hparam[0] determines the amplitude of variation\n",
      "hparam[1] determines the stiffness\n",
      "hparam[2] determines the variance of the measurement error\n",
      "log(max likelihood)= 2.933103e+02\n",
      "hparam[0]= 3.388760e+00 [1.000000e-05, 1.000000e+05]\n",
      "hparam[1]= 1.198899e+01 [1.000000e-04, 1.000000e+04]\n",
      "hparam[2]= 1.000000e-05 [1.000000e-05, 1.000000e+02]\n",
      "Warning: hyperparameter 2 is at a lower bound\n",
      "\n",
      "Calculating statistics with 100 samples\n",
      "\t(displaying mean +/- standard deviation [standard error])\n",
      "\n",
      "         max gr= 4.231581e-01 +/- 3.183965e-03 [3.183965e-04]\n",
      " time of max gr= 3.679770e+00 +/- 1.740259e-01 [1.740259e-02]\n",
      "  doubling time= 1.638127e+00 +/- 1.234296e-02 [1.234296e-03]\n",
      "         max OD= 7.188593e-01 +/- 1.079143e-03 [1.079143e-04]\n",
      "       lag time= 1.265985e+00 +/- 2.017182e-02 [2.017182e-03]\n"
     ]
    },
    {
     "data": {
      "image/png": "[encoded data removed]",
      "text/plain": [
       "<Figure size 432x288 with 2 Axes>"
      ]
     },
     "metadata": {
      "needs_background": "light"
     },
     "output_type": "display_data"
    }
   ],
   "source": [
    "p.getstats(strains = \"pRPS3-mCherry-tCLN2_biorep6_biorep6\") # pgk1-tos6 rps3-cln2 rps3-rps13"
   ]
  },
  {
   "cell_type": "code",
   "execution_count": 14,
   "metadata": {},
   "outputs": [],
   "source": [
    "#p.sc[['experiment','strain', 'max gr', 'max gr var']].head()"
   ]
  },
  {
   "cell_type": "code",
   "execution_count": 15,
   "metadata": {},
   "outputs": [],
   "source": [
    "#p.plot(y= 'gr', hue= 'strain')"
   ]
  },
  {
   "cell_type": "code",
   "execution_count": 16,
   "metadata": {},
   "outputs": [
    {
     "name": "stdout",
     "output_type": "stream",
     "text": [
      "Using POT1-ccdB_biorep6 as the reference\n",
      "Correcting autofluorescence\n",
      "20201027-pro-mCherry-ter_swaps_n6:: Processing reference strain POT1-ccdB_biorep6 for mCherry-100 in SC-URA\n"
     ]
    },
    {
     "data": {
      "image/png": "[encoded data removed]",
      "text/plain": [
       "<Figure size 432x288 with 1 Axes>"
      ]
     },
     "metadata": {
      "needs_background": "light"
     },
     "output_type": "display_data"
    }
   ],
   "source": [
    "p.correctauto(['mCherry-100'], refstrain= 'POT1-ccdB_biorep6')"
   ]
  },
  {
   "cell_type": "code",
   "execution_count": 23,
   "metadata": {},
   "outputs": [],
   "source": [
    "p.s[[\"experiment\", \"strain\", \"time\", \"OD mean\", \"c-mCherry-100\", \"c-mCherry-100perod\", \"gr\"]].to_csv(\"../../../../data/norm_platereader/promoter_terminator_swaps/mCherry_collection/pro-mCherry-ter_swaps_OD_and_mCherry.csv\", mode = \"a\", header = False)\n",
    "p.sc[[\"experiment\", \"strain\", \"max gr\", \"time of max gr\"]].to_csv(\"../../../../data/norm_platereader/promoter_terminator_swaps/mCherry_collection/pro-mCherry-ter_swaps_max_gr.csv\", mode = \"a\", header = False)"
   ]
  },
  {
   "cell_type": "code",
   "execution_count": null,
   "metadata": {
    "scrolled": true
   },
   "outputs": [],
   "source": [
    "q= om.platereader(wdir= 'data/', ls= False)\n",
    "q.importdf('20201027-pro-mCherry-ter_swaps_n6')"
   ]
  },
  {
   "cell_type": "code",
   "execution_count": null,
   "metadata": {},
   "outputs": [],
   "source": [
    "e= '20201027-pro-mCherry-ter_swaps_n6'\n",
    "# store results as an array of dictionaries to eventually convert into a dataframe\n",
    "results= []\n",
    "for s in p.allstrains[e]:\n",
    "        # find the time of local maximum growth rate for the condition\n",
    "        tm= p.sc.query('strain == @s')['time of local max gr'].values[0]\n",
    "        # take the relevant sub-dataframe for the condition\n",
    "        df= p.s.query('strain == @s')\n",
    "        # find GPF mean at time tm\n",
    "        i= np.argmin(np.abs(df['time'].values - tm))\n",
    "        results.append({'c-mCherry-100 per OD at max local gr' : df['c-mCherry-100perod'][df.index[i]],\n",
    "                     'strain' : s})\n",
    "# convert to dataframe\n",
    "rdf= pd.DataFrame(results)\n",
    "# add to existing dataframe by experiment, condition, and strain\n",
    "p.sc= pd.merge(p.sc, rdf, how= 'outer')"
   ]
  },
  {
   "cell_type": "code",
   "execution_count": null,
   "metadata": {},
   "outputs": [],
   "source": [
    "p.sc[['strain','c-mCherry-100 per OD at max local gr']].to_csv(\"../../../../data/norm_platereader/promoter_terminator_swaps/mCherry_collection/pro-mCherry-ter_swaps_n=6.csv\")"
   ]
  }
 ],
 "metadata": {
  "kernelspec": {
   "display_name": "Python 3 (ipykernel)",
   "language": "python",
   "name": "python3"
  },
  "language_info": {
   "codemirror_mode": {
    "name": "ipython",
    "version": 3
   },
   "file_extension": ".py",
   "mimetype": "text/x-python",
   "name": "python",
   "nbconvert_exporter": "python",
   "pygments_lexer": "ipython3",
   "version": "3.8.5"
  }
 },
 "nbformat": 4,
 "nbformat_minor": 2
}
