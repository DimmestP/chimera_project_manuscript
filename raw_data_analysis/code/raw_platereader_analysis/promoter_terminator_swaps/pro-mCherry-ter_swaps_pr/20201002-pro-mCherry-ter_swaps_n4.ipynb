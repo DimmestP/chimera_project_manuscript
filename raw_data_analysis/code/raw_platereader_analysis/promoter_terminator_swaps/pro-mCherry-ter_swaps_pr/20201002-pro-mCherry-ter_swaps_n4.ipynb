{
 "cells": [
  {
   "cell_type": "code",
   "execution_count": 5,
   "metadata": {},
   "outputs": [],
   "source": [
    "import numpy as np\n",
    "import matplotlib.pyplot as plt\n",
    "import pandas as pd\n",
    "import seaborn as sns\n",
    "# makes figures look better in Jupyter\n",
    "sns.set_context(\"talk\")"
   ]
  },
  {
   "cell_type": "code",
   "execution_count": 6,
   "metadata": {},
   "outputs": [],
   "source": [
    "import sys \n",
    "from pathlib import Path \n",
    "sys.path.insert(0, str(Path.cwd().parents[1]) + \"/omniplate_platereader_analysis_code\")"
   ]
  },
  {
   "cell_type": "code",
   "execution_count": 7,
   "metadata": {},
   "outputs": [],
   "source": [
    "import omniplate as om"
   ]
  },
  {
   "cell_type": "code",
   "execution_count": 8,
   "metadata": {},
   "outputs": [
    {
     "name": "stdout",
     "output_type": "stream",
     "text": [
      "\n",
      "omniplate version= 0.15\n",
      "Working directory is /home/dimmest-p/Documents/PhD/3UTR_motifs/motifPrediction/chimera_project_manuscript/raw_data_analysis/code/raw_platereader_analysis/promoter_terminator_swaps/pro-mCherry-ter_swaps_pr/../../../../data/raw_platereader/promoter_terminator_swaps/mCherry_collection/\n",
      "Files available are: \n",
      "---\n",
      "20200930-pro-mCherry-ter_swaps_n2.xlsx\n",
      "20200929-pro-mCherry-ter_swaps_n1.xlsx\n",
      "pro-mCherry-ter_swaps_n3_contents.xls\n",
      "pro-mCherry-ter_swaps_n5_contents.xls\n",
      "ODcorrection_Glucose_Haploid.txt\n",
      "20201001-pro-mCherry-ter_swaps_n3_r.json\n",
      "20201001-pro-mCherry-ter_swaps_n3_sc.json\n",
      "20201027-pro-mCherry-ter_swaps_n6.xlsx\n",
      "pro-mCherry-ter_swaps_n2_contents.xls\n",
      "pro-mCherry-ter_swaps_n1_contents.xls\n",
      "20201014-pro-mCherry-ter_swaps_n5.xlsx\n",
      "pro-mCherry-ter_swaps_n4_contents.xls\n",
      "pro-mCherry-ter_swaps_n6_contents.xls\n",
      "20201001-pro-mCherry-ter_swaps_n3_s.json\n",
      "20201002-pro-mCherry-ter_swaps_n4.xlsx\n",
      "20201001-pro-mCherry-ter_swaps_n3.xlsx\n",
      "20201001-pro-mCherry-ter_swaps_n3.log\n"
     ]
    }
   ],
   "source": [
    "p= om.platereader(wdir= '../../../../data/raw_platereader/promoter_terminator_swaps/mCherry_collection/')"
   ]
  },
  {
   "cell_type": "code",
   "execution_count": 9,
   "metadata": {},
   "outputs": [
    {
     "name": "stdout",
     "output_type": "stream",
     "text": [
      "loading 20201002-pro-mCherry-ter_swaps_n4.xlsx\n",
      "\n",
      "Experiment: 20201002-pro-mCherry-ter_swaps_n4 \n",
      "---\n",
      "Conditions:\n",
      "\t SC-URA\n",
      "Strains:\n",
      "\t POT1-ccdB_biorep4\n",
      "\t null\n",
      "\t pCLN2-mCherry-tCLN2_biorep4\n",
      "\t pCLN2-mCherry-tHSP26_biorep4\n",
      "\t pCLN2-mCherry-tPAB1_biorep4\n",
      "\t pCLN2-mCherry-tPGK1_biorep4\n",
      "\t pCLN2-mCherry-tPMA1_biorep4\n",
      "\t pCLN2-mCherry-tRPS13_biorep4\n",
      "\t pCLN2-mCherry-tRPS3_biorep4\n",
      "\t pCLN2-mCherry-tSRO9_biorep4\n",
      "\t pCLN2-mCherry-tSUN4_biorep4\n",
      "\t pCLN2-mCherry-tTOS6_biorep4\n",
      "\t pHSP26-mCherry-tCLN2_biorep4\n",
      "\t pHSP26-mCherry-tHSP26_biorep4\n",
      "\t pHSP26-mCherry-tPAB1_biorep4\n",
      "\t pHSP26-mCherry-tPGK1_biorep4\n",
      "\t pHSP26-mCherry-tPMA1_biorep4\n",
      "\t pHSP26-mCherry-tRPS13_biorep4\n",
      "\t pHSP26-mCherry-tRPS3_biorep4\n",
      "\t pHSP26-mCherry-tSRO9_biorep4\n",
      "\t pHSP26-mCherry-tSUN4_biorep4\n",
      "\t pPGK1-mCherry-tCLN2_biorep4\n",
      "\t pPGK1-mCherry-tHSP26_biorep4\n",
      "\t pPGK1-mCherry-tPAB1_biorep4\n",
      "\t pPGK1-mCherry-tPGK1_biorep4\n",
      "\t pPGK1-mCherry-tPMA1_biorep4\n",
      "\t pPGK1-mCherry-tRPS13_biorep4\n",
      "\t pPGK1-mCherry-tRPS3_biorep4\n",
      "\t pPGK1-mCherry-tSRO9_biorep4\n",
      "\t pPGK1-mCherry-tSUN4_biorep4\n",
      "\t pPGK1-mCherry-tTOS6_biorep4\n",
      "\t pRPS13-mCherry-tCLN2_biorep4\n",
      "\t pRPS13-mCherry-tHSP26_biorep4\n",
      "\t pRPS13-mCherry-tPAB1_biorep4\n",
      "\t pRPS13-mCherry-tPGK1_biorep4\n",
      "\t pRPS13-mCherry-tPMA1_biorep4\n",
      "\t pRPS13-mCherry-tRPS13_biorep4\n",
      "\t pRPS13-mCherry-tRPS3_biorep4\n",
      "\t pRPS13-mCherry-tSRO9_biorep4\n",
      "\t pRPS13-mCherry-tSUN4_biorep4\n",
      "\t pRPS13-mCherry-tTOS6_biorep4\n",
      "\t pRPS3-mCherry-tCLN2_biorep4\n",
      "\t pRPS3-mCherry-tHSP26_biorep4\n",
      "\t pRPS3-mCherry-tPAB1_biorep4\n",
      "\t pRPS3-mCherry-tPGK1_biorep4\n",
      "\t pRPS3-mCherry-tPMA1_biorep4\n",
      "\t pRPS3-mCherry-tRPS13_biorep4\n",
      "\t pRPS3-mCherry-tRPS3_biorep4\n",
      "\t pRPS3-mCherry-tSRO9_biorep4\n",
      "\t pRPS3-mCherry-tSUN4_biorep4\n",
      "\t pRPS3-mCherry-tTOS6_biorep4\n",
      "\t pSRO9-mCherry-tCLN2_biorep4\n",
      "\t pSRO9-mCherry-tHSP26_biorep4\n",
      "\t pSRO9-mCherry-tPAB1_biorep4\n",
      "\t pSRO9-mCherry-tPGK1_biorep4\n",
      "\t pSRO9-mCherry-tPMA1_biorep4\n",
      "\t pSRO9-mCherry-tRPS13_biorep4\n",
      "\t pSRO9-mCherry-tRPS3_biorep4\n",
      "\t pSRO9-mCherry-tSRO9_biorep4\n",
      "\t pSRO9-mCherry-tSUN4_biorep4\n",
      "\t pSRO9-mCherry-tTOS6_biorep4\n",
      "Data types:\n",
      "\t OD\n",
      "\t mCherry-100\n",
      "\t mCherry-120\n",
      "Ignored wells:\n",
      "\t None\n"
     ]
    }
   ],
   "source": [
    "p.load('20201002-pro-mCherry-ter_swaps_n4.xlsx', 'pro-mCherry-ter_swaps_n4_contents.xls')"
   ]
  },
  {
   "cell_type": "code",
   "execution_count": 10,
   "metadata": {},
   "outputs": [
    {
     "data": {
      "text/html": [
       "<div>\n",
       "<style scoped>\n",
       "    .dataframe tbody tr th:only-of-type {\n",
       "        vertical-align: middle;\n",
       "    }\n",
       "\n",
       "    .dataframe tbody tr th {\n",
       "        vertical-align: top;\n",
       "    }\n",
       "\n",
       "    .dataframe thead th {\n",
       "        text-align: right;\n",
       "    }\n",
       "</style>\n",
       "<table border=\"1\" class=\"dataframe\">\n",
       "  <thead>\n",
       "    <tr style=\"text-align: right;\">\n",
       "      <th></th>\n",
       "      <th>experiment</th>\n",
       "      <th>condition</th>\n",
       "      <th>strain</th>\n",
       "      <th>time</th>\n",
       "      <th>well</th>\n",
       "      <th>OD</th>\n",
       "      <th>mCherry-100</th>\n",
       "      <th>mCherry-120</th>\n",
       "    </tr>\n",
       "  </thead>\n",
       "  <tbody>\n",
       "    <tr>\n",
       "      <th>0</th>\n",
       "      <td>20201002-pro-mCherry-ter_swaps_n4</td>\n",
       "      <td>SC-URA</td>\n",
       "      <td>null</td>\n",
       "      <td>0.000000</td>\n",
       "      <td>A1</td>\n",
       "      <td>0.0785</td>\n",
       "      <td>5.0</td>\n",
       "      <td>27.0</td>\n",
       "    </tr>\n",
       "    <tr>\n",
       "      <th>1</th>\n",
       "      <td>20201002-pro-mCherry-ter_swaps_n4</td>\n",
       "      <td>SC-URA</td>\n",
       "      <td>null</td>\n",
       "      <td>0.211815</td>\n",
       "      <td>A1</td>\n",
       "      <td>0.0782</td>\n",
       "      <td>3.0</td>\n",
       "      <td>16.0</td>\n",
       "    </tr>\n",
       "    <tr>\n",
       "      <th>2</th>\n",
       "      <td>20201002-pro-mCherry-ter_swaps_n4</td>\n",
       "      <td>SC-URA</td>\n",
       "      <td>null</td>\n",
       "      <td>0.423574</td>\n",
       "      <td>A1</td>\n",
       "      <td>0.0787</td>\n",
       "      <td>2.0</td>\n",
       "      <td>15.0</td>\n",
       "    </tr>\n",
       "    <tr>\n",
       "      <th>3</th>\n",
       "      <td>20201002-pro-mCherry-ter_swaps_n4</td>\n",
       "      <td>SC-URA</td>\n",
       "      <td>null</td>\n",
       "      <td>0.635343</td>\n",
       "      <td>A1</td>\n",
       "      <td>0.0787</td>\n",
       "      <td>1.0</td>\n",
       "      <td>18.0</td>\n",
       "    </tr>\n",
       "    <tr>\n",
       "      <th>4</th>\n",
       "      <td>20201002-pro-mCherry-ter_swaps_n4</td>\n",
       "      <td>SC-URA</td>\n",
       "      <td>null</td>\n",
       "      <td>0.847120</td>\n",
       "      <td>A1</td>\n",
       "      <td>0.0790</td>\n",
       "      <td>2.0</td>\n",
       "      <td>17.0</td>\n",
       "    </tr>\n",
       "  </tbody>\n",
       "</table>\n",
       "</div>"
      ],
      "text/plain": [
       "                          experiment condition strain      time well      OD  \\\n",
       "0  20201002-pro-mCherry-ter_swaps_n4    SC-URA   null  0.000000   A1  0.0785   \n",
       "1  20201002-pro-mCherry-ter_swaps_n4    SC-URA   null  0.211815   A1  0.0782   \n",
       "2  20201002-pro-mCherry-ter_swaps_n4    SC-URA   null  0.423574   A1  0.0787   \n",
       "3  20201002-pro-mCherry-ter_swaps_n4    SC-URA   null  0.635343   A1  0.0787   \n",
       "4  20201002-pro-mCherry-ter_swaps_n4    SC-URA   null  0.847120   A1  0.0790   \n",
       "\n",
       "   mCherry-100  mCherry-120  \n",
       "0          5.0         27.0  \n",
       "1          3.0         16.0  \n",
       "2          2.0         15.0  \n",
       "3          1.0         18.0  \n",
       "4          2.0         17.0  "
      ]
     },
     "execution_count": 10,
     "metadata": {},
     "output_type": "execute_result"
    }
   ],
   "source": [
    "p.r.head()"
   ]
  },
  {
   "cell_type": "code",
   "execution_count": 11,
   "metadata": {},
   "outputs": [
    {
     "data": {
      "text/plain": [
       "Index(['experiment', 'condition', 'strain', 'time', 'well', 'OD',\n",
       "       'mCherry-100', 'mCherry-120'],\n",
       "      dtype='object')"
      ]
     },
     "execution_count": 11,
     "metadata": {},
     "output_type": "execute_result"
    }
   ],
   "source": [
    "p.r.columns"
   ]
  },
  {
   "cell_type": "code",
   "execution_count": 12,
   "metadata": {},
   "outputs": [
    {
     "data": {
      "text/html": [
       "<div>\n",
       "<style scoped>\n",
       "    .dataframe tbody tr th:only-of-type {\n",
       "        vertical-align: middle;\n",
       "    }\n",
       "\n",
       "    .dataframe tbody tr th {\n",
       "        vertical-align: top;\n",
       "    }\n",
       "\n",
       "    .dataframe thead th {\n",
       "        text-align: right;\n",
       "    }\n",
       "</style>\n",
       "<table border=\"1\" class=\"dataframe\">\n",
       "  <thead>\n",
       "    <tr style=\"text-align: right;\">\n",
       "      <th></th>\n",
       "      <th>experiment</th>\n",
       "      <th>condition</th>\n",
       "      <th>strain</th>\n",
       "      <th>time</th>\n",
       "      <th>OD mean</th>\n",
       "      <th>mCherry-100 mean</th>\n",
       "      <th>mCherry-120 mean</th>\n",
       "      <th>OD var</th>\n",
       "      <th>mCherry-100 var</th>\n",
       "      <th>mCherry-120 var</th>\n",
       "    </tr>\n",
       "  </thead>\n",
       "  <tbody>\n",
       "    <tr>\n",
       "      <th>0</th>\n",
       "      <td>20201002-pro-mCherry-ter_swaps_n4</td>\n",
       "      <td>SC-URA</td>\n",
       "      <td>POT1-ccdB_biorep4</td>\n",
       "      <td>0.000000</td>\n",
       "      <td>0.257075</td>\n",
       "      <td>5.25</td>\n",
       "      <td>20.00</td>\n",
       "      <td>0.000024</td>\n",
       "      <td>0.250000</td>\n",
       "      <td>4.666667</td>\n",
       "    </tr>\n",
       "    <tr>\n",
       "      <th>1</th>\n",
       "      <td>20201002-pro-mCherry-ter_swaps_n4</td>\n",
       "      <td>SC-URA</td>\n",
       "      <td>POT1-ccdB_biorep4</td>\n",
       "      <td>0.211815</td>\n",
       "      <td>0.260400</td>\n",
       "      <td>1.50</td>\n",
       "      <td>13.00</td>\n",
       "      <td>0.000032</td>\n",
       "      <td>0.333333</td>\n",
       "      <td>1.333333</td>\n",
       "    </tr>\n",
       "    <tr>\n",
       "      <th>2</th>\n",
       "      <td>20201002-pro-mCherry-ter_swaps_n4</td>\n",
       "      <td>SC-URA</td>\n",
       "      <td>POT1-ccdB_biorep4</td>\n",
       "      <td>0.423574</td>\n",
       "      <td>0.265475</td>\n",
       "      <td>1.25</td>\n",
       "      <td>14.75</td>\n",
       "      <td>0.000050</td>\n",
       "      <td>2.250000</td>\n",
       "      <td>1.583333</td>\n",
       "    </tr>\n",
       "    <tr>\n",
       "      <th>3</th>\n",
       "      <td>20201002-pro-mCherry-ter_swaps_n4</td>\n",
       "      <td>SC-URA</td>\n",
       "      <td>POT1-ccdB_biorep4</td>\n",
       "      <td>0.635343</td>\n",
       "      <td>0.270875</td>\n",
       "      <td>1.00</td>\n",
       "      <td>13.75</td>\n",
       "      <td>0.000063</td>\n",
       "      <td>0.666667</td>\n",
       "      <td>19.583333</td>\n",
       "    </tr>\n",
       "    <tr>\n",
       "      <th>4</th>\n",
       "      <td>20201002-pro-mCherry-ter_swaps_n4</td>\n",
       "      <td>SC-URA</td>\n",
       "      <td>POT1-ccdB_biorep4</td>\n",
       "      <td>0.847120</td>\n",
       "      <td>0.276775</td>\n",
       "      <td>0.50</td>\n",
       "      <td>15.25</td>\n",
       "      <td>0.000066</td>\n",
       "      <td>0.333333</td>\n",
       "      <td>4.250000</td>\n",
       "    </tr>\n",
       "    <tr>\n",
       "      <th>...</th>\n",
       "      <td>...</td>\n",
       "      <td>...</td>\n",
       "      <td>...</td>\n",
       "      <td>...</td>\n",
       "      <td>...</td>\n",
       "      <td>...</td>\n",
       "      <td>...</td>\n",
       "      <td>...</td>\n",
       "      <td>...</td>\n",
       "      <td>...</td>\n",
       "    </tr>\n",
       "    <tr>\n",
       "      <th>3533</th>\n",
       "      <td>20201002-pro-mCherry-ter_swaps_n4</td>\n",
       "      <td>SC-URA</td>\n",
       "      <td>pSRO9-mCherry-tTOS6_biorep4</td>\n",
       "      <td>11.223713</td>\n",
       "      <td>1.252200</td>\n",
       "      <td>12.00</td>\n",
       "      <td>54.00</td>\n",
       "      <td>NaN</td>\n",
       "      <td>NaN</td>\n",
       "      <td>NaN</td>\n",
       "    </tr>\n",
       "    <tr>\n",
       "      <th>3534</th>\n",
       "      <td>20201002-pro-mCherry-ter_swaps_n4</td>\n",
       "      <td>SC-URA</td>\n",
       "      <td>pSRO9-mCherry-tTOS6_biorep4</td>\n",
       "      <td>11.435481</td>\n",
       "      <td>1.251600</td>\n",
       "      <td>10.00</td>\n",
       "      <td>51.00</td>\n",
       "      <td>NaN</td>\n",
       "      <td>NaN</td>\n",
       "      <td>NaN</td>\n",
       "    </tr>\n",
       "    <tr>\n",
       "      <th>3535</th>\n",
       "      <td>20201002-pro-mCherry-ter_swaps_n4</td>\n",
       "      <td>SC-URA</td>\n",
       "      <td>pSRO9-mCherry-tTOS6_biorep4</td>\n",
       "      <td>11.647259</td>\n",
       "      <td>1.252500</td>\n",
       "      <td>11.00</td>\n",
       "      <td>50.00</td>\n",
       "      <td>NaN</td>\n",
       "      <td>NaN</td>\n",
       "      <td>NaN</td>\n",
       "    </tr>\n",
       "    <tr>\n",
       "      <th>3536</th>\n",
       "      <td>20201002-pro-mCherry-ter_swaps_n4</td>\n",
       "      <td>SC-URA</td>\n",
       "      <td>pSRO9-mCherry-tTOS6_biorep4</td>\n",
       "      <td>11.859009</td>\n",
       "      <td>1.251800</td>\n",
       "      <td>10.00</td>\n",
       "      <td>53.00</td>\n",
       "      <td>NaN</td>\n",
       "      <td>NaN</td>\n",
       "      <td>NaN</td>\n",
       "    </tr>\n",
       "    <tr>\n",
       "      <th>3537</th>\n",
       "      <td>20201002-pro-mCherry-ter_swaps_n4</td>\n",
       "      <td>SC-URA</td>\n",
       "      <td>pSRO9-mCherry-tTOS6_biorep4</td>\n",
       "      <td>12.070787</td>\n",
       "      <td>1.251600</td>\n",
       "      <td>9.00</td>\n",
       "      <td>49.00</td>\n",
       "      <td>NaN</td>\n",
       "      <td>NaN</td>\n",
       "      <td>NaN</td>\n",
       "    </tr>\n",
       "  </tbody>\n",
       "</table>\n",
       "<p>3538 rows × 10 columns</p>\n",
       "</div>"
      ],
      "text/plain": [
       "                             experiment condition  \\\n",
       "0     20201002-pro-mCherry-ter_swaps_n4    SC-URA   \n",
       "1     20201002-pro-mCherry-ter_swaps_n4    SC-URA   \n",
       "2     20201002-pro-mCherry-ter_swaps_n4    SC-URA   \n",
       "3     20201002-pro-mCherry-ter_swaps_n4    SC-URA   \n",
       "4     20201002-pro-mCherry-ter_swaps_n4    SC-URA   \n",
       "...                                 ...       ...   \n",
       "3533  20201002-pro-mCherry-ter_swaps_n4    SC-URA   \n",
       "3534  20201002-pro-mCherry-ter_swaps_n4    SC-URA   \n",
       "3535  20201002-pro-mCherry-ter_swaps_n4    SC-URA   \n",
       "3536  20201002-pro-mCherry-ter_swaps_n4    SC-URA   \n",
       "3537  20201002-pro-mCherry-ter_swaps_n4    SC-URA   \n",
       "\n",
       "                           strain       time   OD mean  mCherry-100 mean  \\\n",
       "0               POT1-ccdB_biorep4   0.000000  0.257075              5.25   \n",
       "1               POT1-ccdB_biorep4   0.211815  0.260400              1.50   \n",
       "2               POT1-ccdB_biorep4   0.423574  0.265475              1.25   \n",
       "3               POT1-ccdB_biorep4   0.635343  0.270875              1.00   \n",
       "4               POT1-ccdB_biorep4   0.847120  0.276775              0.50   \n",
       "...                           ...        ...       ...               ...   \n",
       "3533  pSRO9-mCherry-tTOS6_biorep4  11.223713  1.252200             12.00   \n",
       "3534  pSRO9-mCherry-tTOS6_biorep4  11.435481  1.251600             10.00   \n",
       "3535  pSRO9-mCherry-tTOS6_biorep4  11.647259  1.252500             11.00   \n",
       "3536  pSRO9-mCherry-tTOS6_biorep4  11.859009  1.251800             10.00   \n",
       "3537  pSRO9-mCherry-tTOS6_biorep4  12.070787  1.251600              9.00   \n",
       "\n",
       "      mCherry-120 mean    OD var  mCherry-100 var  mCherry-120 var  \n",
       "0                20.00  0.000024         0.250000         4.666667  \n",
       "1                13.00  0.000032         0.333333         1.333333  \n",
       "2                14.75  0.000050         2.250000         1.583333  \n",
       "3                13.75  0.000063         0.666667        19.583333  \n",
       "4                15.25  0.000066         0.333333         4.250000  \n",
       "...                ...       ...              ...              ...  \n",
       "3533             54.00       NaN              NaN              NaN  \n",
       "3534             51.00       NaN              NaN              NaN  \n",
       "3535             50.00       NaN              NaN              NaN  \n",
       "3536             53.00       NaN              NaN              NaN  \n",
       "3537             49.00       NaN              NaN              NaN  \n",
       "\n",
       "[3538 rows x 10 columns]"
      ]
     },
     "execution_count": 12,
     "metadata": {},
     "output_type": "execute_result"
    }
   ],
   "source": [
    "p.s"
   ]
  },
  {
   "cell_type": "code",
   "execution_count": 13,
   "metadata": {},
   "outputs": [],
   "source": [
    "#p.plot(y= 'OD', plate= True)\n",
    "#p.plot(y= 'mCherry-100', plate= True)"
   ]
  },
  {
   "cell_type": "code",
   "execution_count": 14,
   "metadata": {},
   "outputs": [
    {
     "name": "stdout",
     "output_type": "stream",
     "text": [
      "20201002-pro-mCherry-ter_swaps_n4 :: Correcting for media for OD in SC-URA\n",
      "GP Warning: large data set - 1914 datapoints - may slow optimisation and give memory issues\n",
      " Warning: linear algebra error - trying a different initial condition\n",
      " Warning: linear algebra error - trying a different initial condition\n",
      "Fitting dilution data for OD correction for non-linearities\n",
      "Using ../../../../data/raw_platereader/promoter_terminator_swaps/mCherry_collection/ODcorrection_Glucose_Haploid.txt\n"
     ]
    },
    {
     "data": {
      "image/png": "[encoded data removed]",
      "text/plain": [
       "<Figure size 432x288 with 1 Axes>"
      ]
     },
     "metadata": {
      "needs_background": "light"
     },
     "output_type": "display_data"
    }
   ],
   "source": [
    "p.correctOD()"
   ]
  },
  {
   "cell_type": "code",
   "execution_count": 15,
   "metadata": {},
   "outputs": [],
   "source": [
    "#p.plot(y= 'mCherry-100', by= 'well')\n"
   ]
  },
  {
   "cell_type": "code",
   "execution_count": 16,
   "metadata": {
    "scrolled": false
   },
   "outputs": [],
   "source": [
    "#sns.relplot(x= 'time', y= 'OD', data= p.r, kind= 'line', hue= 'well', \n",
    "#            col= 'strain')"
   ]
  },
  {
   "cell_type": "code",
   "execution_count": 24,
   "metadata": {},
   "outputs": [
    {
     "name": "stdout",
     "output_type": "stream",
     "text": [
      "\n",
      "Fitting OD for 20201002-pro-mCherry-ter_swaps_n4:: pSRO9-mCherry-tSRO9_biorep4 in SC-URA\n",
      "Taking natural logarithm of the data.\n",
      "Fitting measurement errors.\n",
      "Using a (twice differentiable) Matern covariance function.\n",
      "hparam[0] determines the amplitude of variation\n",
      "hparam[1] determines the stiffness\n",
      "hparam[2] determines the variance of the measurement error\n",
      "log(max likelihood)= 1.988068e+02\n",
      "hparam[0]= 2.355336e+00 [1.000000e-05, 1.000000e+05]\n",
      "hparam[1]= 9.521062e+00 [1.000000e-04, 1.000000e+04]\n",
      "hparam[2]= 1.000000e-05 [1.000000e-05, 1.000000e+02]\n",
      "Warning: hyperparameter 2 is at a lower bound\n",
      "\n",
      "Calculating statistics with 100 samples\n",
      "\t(displaying mean +/- standard deviation [standard error])\n",
      "\n",
      "         max gr= 3.656603e-01 +/- 3.648407e-03 [3.648407e-04]\n",
      " time of max gr= 3.373497e+00 +/- 2.058718e-01 [2.058718e-02]\n",
      "  doubling time= 1.895793e+00 +/- 1.888503e-02 [1.888503e-03]\n",
      "         max OD= 6.979860e-01 +/- 1.355967e-03 [1.355967e-04]\n",
      "       lag time= 1.093153e+00 +/- 2.430446e-02 [2.430446e-03]\n"
     ]
    },
    {
     "data": {
      "image/png": "[encoded data removed]",
      "text/plain": [
       "<Figure size 432x288 with 2 Axes>"
      ]
     },
     "metadata": {
      "needs_background": "light"
     },
     "output_type": "display_data"
    }
   ],
   "source": [
    "p.getstats(strains = \"pSRO9-mCherry-tSRO9_biorep4\") #HSP26-SUN4 SRO9-SRO9"
   ]
  },
  {
   "cell_type": "code",
   "execution_count": 18,
   "metadata": {},
   "outputs": [],
   "source": [
    "#p.sc[['experiment','strain', 'max gr', 'max gr var']].head()"
   ]
  },
  {
   "cell_type": "code",
   "execution_count": 19,
   "metadata": {},
   "outputs": [],
   "source": [
    "#p.plot(y= 'gr', hue= 'strain')"
   ]
  },
  {
   "cell_type": "code",
   "execution_count": 20,
   "metadata": {},
   "outputs": [
    {
     "name": "stdout",
     "output_type": "stream",
     "text": [
      "Using POT1-ccdB_biorep4 as the reference\n",
      "Correcting autofluorescence\n",
      "20201002-pro-mCherry-ter_swaps_n4:: Processing reference strain POT1-ccdB_biorep4 for mCherry-100 in SC-URA\n"
     ]
    },
    {
     "data": {
      "image/png": "[encoded data removed]",
      "text/plain": [
       "<Figure size 432x288 with 1 Axes>"
      ]
     },
     "metadata": {
      "needs_background": "light"
     },
     "output_type": "display_data"
    }
   ],
   "source": [
    "p.correctauto(['mCherry-100'], refstrain= 'POT1-ccdB_biorep4')"
   ]
  },
  {
   "cell_type": "code",
   "execution_count": 25,
   "metadata": {},
   "outputs": [],
   "source": [
    "p.s[[\"experiment\", \"strain\", \"time\", \"OD mean\", \"c-mCherry-100\", \"c-mCherry-100perod\", \"gr\"]].to_csv(\"../../../../data/norm_platereader/promoter_terminator_swaps/mCherry_collection/pro-mCherry-ter_swaps_OD_and_mCherry.csv\", mode = \"a\", header = False)\n",
    "p.sc[[\"experiment\", \"strain\", \"max gr\", \"time of max gr\"]].to_csv(\"../../../../data/norm_platereader/promoter_terminator_swaps/mCherry_collection/pro-mCherry-ter_swaps_max_gr.csv\", mode = \"a\", header = False)"
   ]
  },
  {
   "cell_type": "code",
   "execution_count": null,
   "metadata": {
    "scrolled": true
   },
   "outputs": [],
   "source": [
    "q= om.platereader(wdir= 'data/', ls= False)\n",
    "q.importdf('20201002-pro-mCherry-ter_swaps_n4')"
   ]
  },
  {
   "cell_type": "code",
   "execution_count": null,
   "metadata": {},
   "outputs": [],
   "source": [
    "e= '20201002-pro-mCherry-ter_swaps_n4'\n",
    "# store results as an array of dictionaries to eventually convert into a dataframe\n",
    "results= []\n",
    "for s in p.allstrains[e]:\n",
    "        # find the time of local maximum growth rate for the condition\n",
    "        tm= p.sc.query('strain == @s')['time of local max gr'].values[0]\n",
    "        # take the relevant sub-dataframe for the condition\n",
    "        df= p.s.query('strain == @s')\n",
    "        # find GPF mean at time tm\n",
    "        i= np.argmin(np.abs(df['time'].values - tm))\n",
    "        results.append({'c-mCherry-100 per OD at max local gr' : df['c-mCherry-100perod'][df.index[i]],\n",
    "                     'strain' : s})\n",
    "# convert to dataframe\n",
    "rdf= pd.DataFrame(results)\n",
    "# add to existing dataframe by experiment, condition, and strain\n",
    "p.sc= pd.merge(p.sc, rdf, how= 'outer')"
   ]
  },
  {
   "cell_type": "code",
   "execution_count": null,
   "metadata": {},
   "outputs": [],
   "source": [
    "p.sc[['strain','c-mCherry-100 per OD at max local gr']].to_csv(\"../../../../data/norm_platereader/promoter_terminator_swaps/mCherry_collection/pro-mCherry-ter_swaps_n=4.csv\")"
   ]
  }
 ],
 "metadata": {
  "kernelspec": {
   "display_name": "Python 3 (ipykernel)",
   "language": "python",
   "name": "python3"
  },
  "language_info": {
   "codemirror_mode": {
    "name": "ipython",
    "version": 3
   },
   "file_extension": ".py",
   "mimetype": "text/x-python",
   "name": "python",
   "nbconvert_exporter": "python",
   "pygments_lexer": "ipython3",
   "version": "3.8.5"
  }
 },
 "nbformat": 4,
 "nbformat_minor": 2
}
