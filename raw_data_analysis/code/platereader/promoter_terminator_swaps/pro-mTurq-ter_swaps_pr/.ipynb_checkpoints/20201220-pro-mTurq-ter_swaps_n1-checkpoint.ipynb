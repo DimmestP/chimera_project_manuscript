{
 "cells": [
  {
   "cell_type": "code",
   "execution_count": 1,
   "metadata": {},
   "outputs": [],
   "source": [
    "import numpy as np\n",
    "import matplotlib.pyplot as plt\n",
    "import pandas as pd\n",
    "import seaborn as sns\n",
    "# makes figures look better in Jupyter\n",
    "sns.set_context(\"talk\")"
   ]
  },
  {
   "cell_type": "code",
   "execution_count": 2,
   "metadata": {},
   "outputs": [],
   "source": [
    "import omniplate as om"
   ]
  },
  {
   "cell_type": "code",
   "execution_count": 3,
   "metadata": {},
   "outputs": [
    {
     "name": "stdout",
     "output_type": "stream",
     "text": [
      "\n",
      "omniplate version= 0.19\n",
      "Working directory is /Users/jamieauxillos/Desktop/Files to sort/Omniplate/pro-mTurq-ter_swaps_pr/data/\n",
      "Files available are: \n",
      "---\n",
      "20201112-pro-ter_mTurq_contents.xls\n",
      ".DS_Store\n",
      "20201126-Pro-ter_mTurq2-collection_n3.xlsx\n",
      "20201202-Pro-ter_mTurq2-collection_n4.xlsx\n",
      "20201205-Pro-ter_mTurq2-collection_n6.xlsx\n",
      "ODcorrection_Raffinose_Haploid.txt\n",
      "ODcorrection_Glucose_Diploid.txt\n",
      "ODcorrection_Glucose_Haploid.txt\n",
      "20201110-Pro-ter_mTurq2-collection_n1.xlsx\n",
      "20201122-Pro-ter_mTurq2-collection_n2.xlsx\n",
      "20201204-Pro-ter_mTurq2-collection_n5.xlsx\n",
      "ODcorrection_W303.txt\n",
      "\n"
     ]
    }
   ],
   "source": [
    "p= om.platereader(wdir= 'data/')"
   ]
  },
  {
   "cell_type": "code",
   "execution_count": 4,
   "metadata": {},
   "outputs": [
    {
     "name": "stdout",
     "output_type": "stream",
     "text": [
      "loading 20201110-Pro-ter_mTurq2-collection_n1.xlsx\n",
      "\n",
      "Experiment: 20201110-Pro-ter_mTurq2-collection_n1 \n",
      "---\n",
      "Conditions:\n",
      "\t SC-URA\n",
      "Strains:\n",
      "\t Null\n",
      "\t POT1-ccdB\n",
      "\t pCLN2-mTurq-tCLN2\n",
      "\t pCLN2-mTurq-tHSP26\n",
      "\t pCLN2-mTurq-tPAB1\n",
      "\t pCLN2-mTurq-tPGK1\n",
      "\t pCLN2-mTurq-tPMA1_long\n",
      "\t pCLN2-mTurq-tRPS13\n",
      "\t pCLN2-mTurq-tRPS3\n",
      "\t pCLN2-mTurq-tSRO9_long\n",
      "\t pCLN2-mTurq-tSUN4\n",
      "\t pCLN2-mTurq-tTOS6\n",
      "\t pHSP26-mTurq-tCLN2\n",
      "\t pHSP26-mTurq-tHSP26\n",
      "\t pHSP26-mTurq-tPAB1\n",
      "\t pHSP26-mTurq-tPGK1\n",
      "\t pHSP26-mTurq-tPMA1_long\n",
      "\t pHSP26-mTurq-tRPS13\n",
      "\t pHSP26-mTurq-tRPS3\n",
      "\t pHSP26-mTurq-tSRO9_long\n",
      "\t pHSP26-mTurq-tSUN4\n",
      "\t pHSP26-mTurq-tTOS6\n",
      "\t pPGK1-mTurq-tCLN2\n",
      "\t pPGK1-mTurq-tHSP26\n",
      "\t pPGK1-mTurq-tPAB1\n",
      "\t pPGK1-mTurq-tPGK1\n",
      "\t pPGK1-mTurq-tPMA1_long\n",
      "\t pPGK1-mTurq-tRPS13\n",
      "\t pPGK1-mTurq-tRPS3\n",
      "\t pPGK1-mTurq-tSRO9_long\n",
      "\t pPGK1-mTurq-tSUN4\n",
      "\t pPGK1-mTurq-tTOS6\n",
      "\t pRPS13-mTurq-tCLN2\n",
      "\t pRPS13-mTurq-tHSP26\n",
      "\t pRPS13-mTurq-tPAB1\n",
      "\t pRPS13-mTurq-tPGK1\n",
      "\t pRPS13-mTurq-tPMA1_long\n",
      "\t pRPS13-mTurq-tRPS13\n",
      "\t pRPS13-mTurq-tRPS3\n",
      "\t pRPS13-mTurq-tSRO9_long\n",
      "\t pRPS13-mTurq-tSUN4\n",
      "\t pRPS13-mTurq-tTOS6\n",
      "\t pRPS3-mTurq-tCLN2\n",
      "\t pRPS3-mTurq-tHSP26\n",
      "\t pRPS3-mTurq-tPAB1\n",
      "\t pRPS3-mTurq-tPGK1\n",
      "\t pRPS3-mTurq-tPMA1_long\n",
      "\t pRPS3-mTurq-tRPS13\n",
      "\t pRPS3-mTurq-tRPS3\n",
      "\t pRPS3-mTurq-tSRO9_long\n",
      "\t pRPS3-mTurq-tSUN4\n",
      "\t pRPS3-mTurq-tTOS6\n",
      "\t pSRO9-mTurq-tCLN2\n",
      "\t pSRO9-mTurq-tHSP26\n",
      "\t pSRO9-mTurq-tPAB1\n",
      "\t pSRO9-mTurq-tPGK1\n",
      "\t pSRO9-mTurq-tPMA1_long\n",
      "\t pSRO9-mTurq-tRPS13\n",
      "\t pSRO9-mTurq-tRPS3\n",
      "\t pSRO9-mTurq-tSRO9_long\n",
      "\t pSRO9-mTurq-tSUN4\n",
      "\t pSRO9-mTurq-tTOS6\n",
      "Data types:\n",
      "\t OD\n",
      "\t mTurq-80\n",
      "\t mTurq-60\n",
      "Ignored wells:\n",
      "\t None\n",
      "\n",
      "Warning: \"null\" has been changed to \"Null\" to avoid confusion with pandas.\n",
      "\n"
     ]
    }
   ],
   "source": [
    "p.load('20201110-Pro-ter_mTurq2-collection_n1.xlsx', '20201112-pro-ter_mTurq_contents.xls')"
   ]
  },
  {
   "cell_type": "code",
   "execution_count": 5,
   "metadata": {},
   "outputs": [
    {
     "data": {
      "text/html": [
       "<div>\n",
       "<style scoped>\n",
       "    .dataframe tbody tr th:only-of-type {\n",
       "        vertical-align: middle;\n",
       "    }\n",
       "\n",
       "    .dataframe tbody tr th {\n",
       "        vertical-align: top;\n",
       "    }\n",
       "\n",
       "    .dataframe thead th {\n",
       "        text-align: right;\n",
       "    }\n",
       "</style>\n",
       "<table border=\"1\" class=\"dataframe\">\n",
       "  <thead>\n",
       "    <tr style=\"text-align: right;\">\n",
       "      <th></th>\n",
       "      <th>experiment</th>\n",
       "      <th>condition</th>\n",
       "      <th>strain</th>\n",
       "      <th>time</th>\n",
       "      <th>well</th>\n",
       "      <th>OD</th>\n",
       "      <th>mTurq-80</th>\n",
       "      <th>mTurq-60</th>\n",
       "    </tr>\n",
       "  </thead>\n",
       "  <tbody>\n",
       "    <tr>\n",
       "      <td>0</td>\n",
       "      <td>20201110-Pro-ter_mTurq2-collection_n1</td>\n",
       "      <td>SC-URA</td>\n",
       "      <td>Null</td>\n",
       "      <td>0.000000</td>\n",
       "      <td>A1</td>\n",
       "      <td>0.0803</td>\n",
       "      <td>163.0</td>\n",
       "      <td>19.0</td>\n",
       "    </tr>\n",
       "    <tr>\n",
       "      <td>1</td>\n",
       "      <td>20201110-Pro-ter_mTurq2-collection_n1</td>\n",
       "      <td>SC-URA</td>\n",
       "      <td>Null</td>\n",
       "      <td>0.211806</td>\n",
       "      <td>A1</td>\n",
       "      <td>0.0813</td>\n",
       "      <td>157.0</td>\n",
       "      <td>19.0</td>\n",
       "    </tr>\n",
       "    <tr>\n",
       "      <td>2</td>\n",
       "      <td>20201110-Pro-ter_mTurq2-collection_n1</td>\n",
       "      <td>SC-URA</td>\n",
       "      <td>Null</td>\n",
       "      <td>0.423556</td>\n",
       "      <td>A1</td>\n",
       "      <td>0.0813</td>\n",
       "      <td>150.0</td>\n",
       "      <td>18.0</td>\n",
       "    </tr>\n",
       "    <tr>\n",
       "      <td>3</td>\n",
       "      <td>20201110-Pro-ter_mTurq2-collection_n1</td>\n",
       "      <td>SC-URA</td>\n",
       "      <td>Null</td>\n",
       "      <td>0.635287</td>\n",
       "      <td>A1</td>\n",
       "      <td>0.0812</td>\n",
       "      <td>144.0</td>\n",
       "      <td>15.0</td>\n",
       "    </tr>\n",
       "    <tr>\n",
       "      <td>4</td>\n",
       "      <td>20201110-Pro-ter_mTurq2-collection_n1</td>\n",
       "      <td>SC-URA</td>\n",
       "      <td>Null</td>\n",
       "      <td>0.847028</td>\n",
       "      <td>A1</td>\n",
       "      <td>0.0814</td>\n",
       "      <td>148.0</td>\n",
       "      <td>16.0</td>\n",
       "    </tr>\n",
       "  </tbody>\n",
       "</table>\n",
       "</div>"
      ],
      "text/plain": [
       "                              experiment condition strain      time well  \\\n",
       "0  20201110-Pro-ter_mTurq2-collection_n1    SC-URA   Null  0.000000   A1   \n",
       "1  20201110-Pro-ter_mTurq2-collection_n1    SC-URA   Null  0.211806   A1   \n",
       "2  20201110-Pro-ter_mTurq2-collection_n1    SC-URA   Null  0.423556   A1   \n",
       "3  20201110-Pro-ter_mTurq2-collection_n1    SC-URA   Null  0.635287   A1   \n",
       "4  20201110-Pro-ter_mTurq2-collection_n1    SC-URA   Null  0.847028   A1   \n",
       "\n",
       "       OD  mTurq-80  mTurq-60  \n",
       "0  0.0803     163.0      19.0  \n",
       "1  0.0813     157.0      19.0  \n",
       "2  0.0813     150.0      18.0  \n",
       "3  0.0812     144.0      15.0  \n",
       "4  0.0814     148.0      16.0  "
      ]
     },
     "execution_count": 5,
     "metadata": {},
     "output_type": "execute_result"
    }
   ],
   "source": [
    "p.r.head()"
   ]
  },
  {
   "cell_type": "code",
   "execution_count": 6,
   "metadata": {},
   "outputs": [
    {
     "data": {
      "text/plain": [
       "Index(['experiment', 'condition', 'strain', 'time', 'well', 'OD', 'mTurq-80',\n",
       "       'mTurq-60'],\n",
       "      dtype='object')"
      ]
     },
     "execution_count": 6,
     "metadata": {},
     "output_type": "execute_result"
    }
   ],
   "source": [
    "p.r.columns"
   ]
  },
  {
   "cell_type": "code",
   "execution_count": 7,
   "metadata": {},
   "outputs": [
    {
     "data": {
      "text/html": [
       "<div>\n",
       "<style scoped>\n",
       "    .dataframe tbody tr th:only-of-type {\n",
       "        vertical-align: middle;\n",
       "    }\n",
       "\n",
       "    .dataframe tbody tr th {\n",
       "        vertical-align: top;\n",
       "    }\n",
       "\n",
       "    .dataframe thead th {\n",
       "        text-align: right;\n",
       "    }\n",
       "</style>\n",
       "<table border=\"1\" class=\"dataframe\">\n",
       "  <thead>\n",
       "    <tr style=\"text-align: right;\">\n",
       "      <th></th>\n",
       "      <th>experiment</th>\n",
       "      <th>condition</th>\n",
       "      <th>strain</th>\n",
       "      <th>time</th>\n",
       "      <th>OD mean</th>\n",
       "      <th>mTurq-80 mean</th>\n",
       "      <th>mTurq-60 mean</th>\n",
       "      <th>OD var</th>\n",
       "      <th>mTurq-80 var</th>\n",
       "      <th>mTurq-60 var</th>\n",
       "    </tr>\n",
       "  </thead>\n",
       "  <tbody>\n",
       "    <tr>\n",
       "      <td>0</td>\n",
       "      <td>20201110-Pro-ter_mTurq2-collection_n1</td>\n",
       "      <td>SC-URA</td>\n",
       "      <td>Null</td>\n",
       "      <td>0.000000</td>\n",
       "      <td>0.079276</td>\n",
       "      <td>153.272727</td>\n",
       "      <td>19.727273</td>\n",
       "      <td>0.000003</td>\n",
       "      <td>22.392045</td>\n",
       "      <td>1.204545</td>\n",
       "    </tr>\n",
       "    <tr>\n",
       "      <td>1</td>\n",
       "      <td>20201110-Pro-ter_mTurq2-collection_n1</td>\n",
       "      <td>SC-URA</td>\n",
       "      <td>Null</td>\n",
       "      <td>0.211806</td>\n",
       "      <td>0.079785</td>\n",
       "      <td>150.030303</td>\n",
       "      <td>18.757576</td>\n",
       "      <td>0.000003</td>\n",
       "      <td>15.092803</td>\n",
       "      <td>0.814394</td>\n",
       "    </tr>\n",
       "    <tr>\n",
       "      <td>2</td>\n",
       "      <td>20201110-Pro-ter_mTurq2-collection_n1</td>\n",
       "      <td>SC-URA</td>\n",
       "      <td>Null</td>\n",
       "      <td>0.423556</td>\n",
       "      <td>0.079670</td>\n",
       "      <td>146.303030</td>\n",
       "      <td>16.666667</td>\n",
       "      <td>0.000003</td>\n",
       "      <td>13.217803</td>\n",
       "      <td>0.666667</td>\n",
       "    </tr>\n",
       "    <tr>\n",
       "      <td>3</td>\n",
       "      <td>20201110-Pro-ter_mTurq2-collection_n1</td>\n",
       "      <td>SC-URA</td>\n",
       "      <td>Null</td>\n",
       "      <td>0.635287</td>\n",
       "      <td>0.079694</td>\n",
       "      <td>144.818182</td>\n",
       "      <td>16.060606</td>\n",
       "      <td>0.000004</td>\n",
       "      <td>12.403409</td>\n",
       "      <td>0.621212</td>\n",
       "    </tr>\n",
       "    <tr>\n",
       "      <td>4</td>\n",
       "      <td>20201110-Pro-ter_mTurq2-collection_n1</td>\n",
       "      <td>SC-URA</td>\n",
       "      <td>Null</td>\n",
       "      <td>0.847028</td>\n",
       "      <td>0.079679</td>\n",
       "      <td>144.090909</td>\n",
       "      <td>15.818182</td>\n",
       "      <td>0.000004</td>\n",
       "      <td>11.210227</td>\n",
       "      <td>0.528409</td>\n",
       "    </tr>\n",
       "    <tr>\n",
       "      <td>...</td>\n",
       "      <td>...</td>\n",
       "      <td>...</td>\n",
       "      <td>...</td>\n",
       "      <td>...</td>\n",
       "      <td>...</td>\n",
       "      <td>...</td>\n",
       "      <td>...</td>\n",
       "      <td>...</td>\n",
       "      <td>...</td>\n",
       "      <td>...</td>\n",
       "    </tr>\n",
       "    <tr>\n",
       "      <td>4955</td>\n",
       "      <td>20201110-Pro-ter_mTurq2-collection_n1</td>\n",
       "      <td>SC-URA</td>\n",
       "      <td>pSRO9-mTurq-tTOS6</td>\n",
       "      <td>15.880157</td>\n",
       "      <td>1.232000</td>\n",
       "      <td>8264.000000</td>\n",
       "      <td>1003.000000</td>\n",
       "      <td>NaN</td>\n",
       "      <td>NaN</td>\n",
       "      <td>NaN</td>\n",
       "    </tr>\n",
       "    <tr>\n",
       "      <td>4956</td>\n",
       "      <td>20201110-Pro-ter_mTurq2-collection_n1</td>\n",
       "      <td>SC-URA</td>\n",
       "      <td>pSRO9-mTurq-tTOS6</td>\n",
       "      <td>16.091889</td>\n",
       "      <td>1.231100</td>\n",
       "      <td>8281.000000</td>\n",
       "      <td>1003.000000</td>\n",
       "      <td>NaN</td>\n",
       "      <td>NaN</td>\n",
       "      <td>NaN</td>\n",
       "    </tr>\n",
       "    <tr>\n",
       "      <td>4957</td>\n",
       "      <td>20201110-Pro-ter_mTurq2-collection_n1</td>\n",
       "      <td>SC-URA</td>\n",
       "      <td>pSRO9-mTurq-tTOS6</td>\n",
       "      <td>16.303630</td>\n",
       "      <td>1.233200</td>\n",
       "      <td>8267.000000</td>\n",
       "      <td>1004.000000</td>\n",
       "      <td>NaN</td>\n",
       "      <td>NaN</td>\n",
       "      <td>NaN</td>\n",
       "    </tr>\n",
       "    <tr>\n",
       "      <td>4958</td>\n",
       "      <td>20201110-Pro-ter_mTurq2-collection_n1</td>\n",
       "      <td>SC-URA</td>\n",
       "      <td>pSRO9-mTurq-tTOS6</td>\n",
       "      <td>16.515361</td>\n",
       "      <td>1.232700</td>\n",
       "      <td>8275.000000</td>\n",
       "      <td>1006.000000</td>\n",
       "      <td>NaN</td>\n",
       "      <td>NaN</td>\n",
       "      <td>NaN</td>\n",
       "    </tr>\n",
       "    <tr>\n",
       "      <td>4959</td>\n",
       "      <td>20201110-Pro-ter_mTurq2-collection_n1</td>\n",
       "      <td>SC-URA</td>\n",
       "      <td>pSRO9-mTurq-tTOS6</td>\n",
       "      <td>16.727102</td>\n",
       "      <td>1.232400</td>\n",
       "      <td>8291.000000</td>\n",
       "      <td>1003.000000</td>\n",
       "      <td>NaN</td>\n",
       "      <td>NaN</td>\n",
       "      <td>NaN</td>\n",
       "    </tr>\n",
       "  </tbody>\n",
       "</table>\n",
       "<p>4960 rows × 10 columns</p>\n",
       "</div>"
      ],
      "text/plain": [
       "                                 experiment condition             strain  \\\n",
       "0     20201110-Pro-ter_mTurq2-collection_n1    SC-URA               Null   \n",
       "1     20201110-Pro-ter_mTurq2-collection_n1    SC-URA               Null   \n",
       "2     20201110-Pro-ter_mTurq2-collection_n1    SC-URA               Null   \n",
       "3     20201110-Pro-ter_mTurq2-collection_n1    SC-URA               Null   \n",
       "4     20201110-Pro-ter_mTurq2-collection_n1    SC-URA               Null   \n",
       "...                                     ...       ...                ...   \n",
       "4955  20201110-Pro-ter_mTurq2-collection_n1    SC-URA  pSRO9-mTurq-tTOS6   \n",
       "4956  20201110-Pro-ter_mTurq2-collection_n1    SC-URA  pSRO9-mTurq-tTOS6   \n",
       "4957  20201110-Pro-ter_mTurq2-collection_n1    SC-URA  pSRO9-mTurq-tTOS6   \n",
       "4958  20201110-Pro-ter_mTurq2-collection_n1    SC-URA  pSRO9-mTurq-tTOS6   \n",
       "4959  20201110-Pro-ter_mTurq2-collection_n1    SC-URA  pSRO9-mTurq-tTOS6   \n",
       "\n",
       "           time   OD mean  mTurq-80 mean  mTurq-60 mean    OD var  \\\n",
       "0      0.000000  0.079276     153.272727      19.727273  0.000003   \n",
       "1      0.211806  0.079785     150.030303      18.757576  0.000003   \n",
       "2      0.423556  0.079670     146.303030      16.666667  0.000003   \n",
       "3      0.635287  0.079694     144.818182      16.060606  0.000004   \n",
       "4      0.847028  0.079679     144.090909      15.818182  0.000004   \n",
       "...         ...       ...            ...            ...       ...   \n",
       "4955  15.880157  1.232000    8264.000000    1003.000000       NaN   \n",
       "4956  16.091889  1.231100    8281.000000    1003.000000       NaN   \n",
       "4957  16.303630  1.233200    8267.000000    1004.000000       NaN   \n",
       "4958  16.515361  1.232700    8275.000000    1006.000000       NaN   \n",
       "4959  16.727102  1.232400    8291.000000    1003.000000       NaN   \n",
       "\n",
       "      mTurq-80 var  mTurq-60 var  \n",
       "0        22.392045      1.204545  \n",
       "1        15.092803      0.814394  \n",
       "2        13.217803      0.666667  \n",
       "3        12.403409      0.621212  \n",
       "4        11.210227      0.528409  \n",
       "...            ...           ...  \n",
       "4955           NaN           NaN  \n",
       "4956           NaN           NaN  \n",
       "4957           NaN           NaN  \n",
       "4958           NaN           NaN  \n",
       "4959           NaN           NaN  \n",
       "\n",
       "[4960 rows x 10 columns]"
      ]
     },
     "execution_count": 7,
     "metadata": {},
     "output_type": "execute_result"
    }
   ],
   "source": [
    "p.s"
   ]
  },
  {
   "cell_type": "code",
   "execution_count": 8,
   "metadata": {},
   "outputs": [
    {
     "data": {
      "image/png": "[encoded data removed]",
      "text/plain": [
       "<Figure size 432x288 with 96 Axes>"
      ]
     },
     "metadata": {},
     "output_type": "display_data"
    },
    {
     "data": {
      "image/png": "[encoded data removed]",
      "text/plain": [
       "<Figure size 432x288 with 96 Axes>"
      ]
     },
     "metadata": {},
     "output_type": "display_data"
    }
   ],
   "source": [
    "p.plot(y= 'OD', plate= True)\n",
    "p.plot(y= 'mTurq-60', plate= True)"
   ]
  },
  {
   "cell_type": "code",
   "execution_count": null,
   "metadata": {},
   "outputs": [
    {
     "name": "stdout",
     "output_type": "stream",
     "text": [
      "20201110-Pro-ter_mTurq2-collection_n1 :: Correcting for media for OD in SC-URA\n",
      "GP Warning: large data set - 2640 datapoints - may slow optimisation and give memory issues\n"
     ]
    }
   ],
   "source": [
    "p.correctOD()"
   ]
  },
  {
   "cell_type": "code",
   "execution_count": null,
   "metadata": {},
   "outputs": [],
   "source": [
    "p.plot(y= 'mTurq-60', by= 'well')\n"
   ]
  },
  {
   "cell_type": "code",
   "execution_count": null,
   "metadata": {
    "scrolled": false
   },
   "outputs": [],
   "source": [
    "sns.relplot(x= 'time', y= 'OD', data= p.r, kind= 'line', hue= 'well', \n",
    "            col= 'strain')"
   ]
  },
  {
   "cell_type": "code",
   "execution_count": null,
   "metadata": {},
   "outputs": [],
   "source": [
    "p.getstats()"
   ]
  },
  {
   "cell_type": "code",
   "execution_count": null,
   "metadata": {},
   "outputs": [],
   "source": [
    "p.sc[['experiment','strain', 'max gr', 'max gr var']].head()"
   ]
  },
  {
   "cell_type": "code",
   "execution_count": null,
   "metadata": {},
   "outputs": [],
   "source": [
    "p.plot(y= 'gr', hue= 'strain')"
   ]
  },
  {
   "cell_type": "code",
   "execution_count": null,
   "metadata": {},
   "outputs": [],
   "source": [
    "p.correctauto(['mTurq-60'], refstrain= 'POT1-ccdB')"
   ]
  },
  {
   "cell_type": "code",
   "execution_count": null,
   "metadata": {},
   "outputs": [],
   "source": [
    "p.exportdf()"
   ]
  },
  {
   "cell_type": "code",
   "execution_count": null,
   "metadata": {},
   "outputs": [],
   "source": [
    "q= om.platereader(wdir= 'data/', ls= False)\n",
    "q.importdf('20201110-Pro-ter_mTurq2-collection_n1')"
   ]
  },
  {
   "cell_type": "code",
   "execution_count": null,
   "metadata": {},
   "outputs": [],
   "source": [
    "e= '20201110-Pro-ter_mTurq2-collection_n1'\n",
    "# store results as an array of dictionaries to eventually convert into a dataframe\n",
    "results= []\n",
    "for s in p.allstrains[e]:\n",
    "        # find the time of local maximum growth rate for the condition\n",
    "        tm= p.sc.query('strain == @s')['time of local max gr'].values[0]\n",
    "        # take the relevant sub-dataframe for the condition\n",
    "        df= p.s.query('strain == @s')\n",
    "        # find GPF mean at time tm\n",
    "        i= np.argmin(np.abs(df['time'].values - tm))\n",
    "        results.append({'c-mTurq-60 per OD at max local gr' : df['c-mTurq-60perod'][df.index[i]],\n",
    "                     'strain' : s})\n",
    "# convert to dataframe\n",
    "rdf= pd.DataFrame(results)\n",
    "# add to existing dataframe by experiment, condition, and strain\n",
    "p.sc= pd.merge(p.sc, rdf, how= 'outer')"
   ]
  },
  {
   "cell_type": "code",
   "execution_count": null,
   "metadata": {},
   "outputs": [],
   "source": [
    "p.sc[['strain','c-mTurq-60 per OD at max local gr']].to_csv(\"n=1.csv\")"
   ]
  }
 ],
 "metadata": {
  "kernelspec": {
   "display_name": "Python 3.7.4 64-bit ('base': conda)",
   "language": "python",
   "name": "python37464bitbaseconda1467ad72009641048c265d39ae4eafbb"
  },
  "language_info": {
   "codemirror_mode": {
    "name": "ipython",
    "version": 3
   },
   "file_extension": ".py",
   "mimetype": "text/x-python",
   "name": "python",
   "nbconvert_exporter": "python",
   "pygments_lexer": "ipython3",
   "version": "3.7.4"
  }
 },
 "nbformat": 4,
 "nbformat_minor": 2
}
