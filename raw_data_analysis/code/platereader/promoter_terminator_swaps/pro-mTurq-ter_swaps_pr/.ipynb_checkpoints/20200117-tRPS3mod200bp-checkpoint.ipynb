{
 "cells": [
  {
   "cell_type": "code",
   "execution_count": 1,
   "metadata": {},
   "outputs": [],
   "source": [
    "import numpy as np\n",
    "import matplotlib.pyplot as plt\n",
    "import pandas as pd\n",
    "import seaborn as sns\n",
    "# makes figures look better in Jupyter\n",
    "sns.set_context(\"talk\")"
   ]
  },
  {
   "cell_type": "code",
   "execution_count": 2,
   "metadata": {},
   "outputs": [],
   "source": [
    "import omniplate as om"
   ]
  },
  {
   "cell_type": "code",
   "execution_count": 3,
   "metadata": {},
   "outputs": [
    {
     "name": "stdout",
     "output_type": "stream",
     "text": [
      "\n",
      "omniplate version= 0.19\n",
      "Working directory is /Users/jamieauxillos/Desktop/Omniplate/20200117 - tRPS3mod200/data/\n",
      "Files available are: \n",
      "---\n",
      ".DS_Store\n",
      "20200117 - motif-mCherry-tRPS3200bp pRPS3 n=1.xlsx\n",
      "20200117-tRPS3200contents.xls\n",
      "ODcorrection_Raffinose_Haploid.txt\n",
      "ODcorrection_Glucose_Diploid.txt\n",
      "ODcorrection_Glucose_Haploid.txt\n",
      "20200117 - pRPS3-mCh-tRPS3mod 200bp plate reader n=1.numbers\n",
      "ODcorrection_W303.txt\n",
      "\n"
     ]
    }
   ],
   "source": [
    "p= om.platereader(wdir= 'data/')"
   ]
  },
  {
   "cell_type": "code",
   "execution_count": 4,
   "metadata": {},
   "outputs": [
    {
     "name": "stdout",
     "output_type": "stream",
     "text": [
      "loading 20200117 - motif-mCherry-tRPS3200bp pRPS3 n=1.xlsx\n",
      "\n",
      "Experiment: 20200117 - motif-mCherry-tRPS3200bp pRPS3 n=1 \n",
      "---\n",
      "Conditions:\n",
      "\t SC-URA\n",
      "Strains:\n",
      "\t Neg_POT1-ccdB_biorep1\n",
      "\t Neg_POT1-ccdB_biorep2\n",
      "\t Neg_POT1-ccdB_biorep3\n",
      "\t Null\n",
      "\t tRPS3-200bp_200bp_biorep1\n",
      "\t tRPS3-200bp_200bp_biorep2\n",
      "\t tRPS3-200bp_200bp_biorep3\n",
      "\t tRPS3-200bp_mod0_biorep1\n",
      "\t tRPS3-200bp_mod0_biorep2\n",
      "\t tRPS3-200bp_mod0_biorep3\n",
      "\t tRPS3-200bp_modA_biorep1\n",
      "\t tRPS3-200bp_modA_biorep2\n",
      "\t tRPS3-200bp_modA_biorep3\n",
      "\t tRPS3-200bp_modB_biorep1\n",
      "\t tRPS3-200bp_modB_biorep2\n",
      "\t tRPS3-200bp_modB_biorep3\n",
      "\t tRPS3-200bp_modC_biorep1\n",
      "\t tRPS3-200bp_modC_biorep2\n",
      "\t tRPS3-200bp_modC_biorep3\n",
      "\t tRPS3-200bp_modD_biorep1\n",
      "\t tRPS3-200bp_modD_biorep2\n",
      "\t tRPS3-200bp_modD_biorep3\n",
      "\t tRPS3-200bp_modE_biorep1\n",
      "\t tRPS3-200bp_modE_biorep2\n",
      "\t tRPS3-200bp_modE_biorep3\n",
      "Data types:\n",
      "\t OD\n",
      "\t mCherry-100\n",
      "\t mCherry-80\n",
      "Ignored wells:\n",
      "\t None\n",
      "\n",
      "Warning: \"null\" has been changed to \"Null\" to avoid confusion with pandas.\n",
      "\n"
     ]
    }
   ],
   "source": [
    "p.load('20200117 - motif-mCherry-tRPS3200bp pRPS3 n=1.xlsx', '20200117-tRPS3200contents.xls')"
   ]
  },
  {
   "cell_type": "code",
   "execution_count": null,
   "metadata": {},
   "outputs": [],
   "source": [
    "p.r.head()"
   ]
  },
  {
   "cell_type": "code",
   "execution_count": null,
   "metadata": {},
   "outputs": [],
   "source": [
    "p.r.columns"
   ]
  },
  {
   "cell_type": "code",
   "execution_count": null,
   "metadata": {},
   "outputs": [],
   "source": [
    "p.s"
   ]
  },
  {
   "cell_type": "code",
   "execution_count": null,
   "metadata": {},
   "outputs": [],
   "source": [
    "p.plot(y= 'OD', plate= True)\n",
    "p.plot(y= 'mCherry-100', plate= True)"
   ]
  },
  {
   "cell_type": "code",
   "execution_count": null,
   "metadata": {},
   "outputs": [],
   "source": [
    "p.correctOD()"
   ]
  },
  {
   "cell_type": "code",
   "execution_count": null,
   "metadata": {},
   "outputs": [],
   "source": [
    "p.plot(y= 'mCherry-100', by= 'well')\n"
   ]
  },
  {
   "cell_type": "code",
   "execution_count": null,
   "metadata": {
    "scrolled": false
   },
   "outputs": [],
   "source": [
    "sns.relplot(x= 'time', y= 'OD', data= p.r, kind= 'line', hue= 'well', \n",
    "            col= 'strain')"
   ]
  },
  {
   "cell_type": "code",
   "execution_count": null,
   "metadata": {},
   "outputs": [],
   "source": [
    "p.getstats()"
   ]
  },
  {
   "cell_type": "code",
   "execution_count": null,
   "metadata": {},
   "outputs": [],
   "source": [
    "p.sc[['experiment','strain', 'max gr', 'max gr var']].head()"
   ]
  },
  {
   "cell_type": "code",
   "execution_count": null,
   "metadata": {},
   "outputs": [],
   "source": [
    "p.plot(y= 'gr', hue= 'strain')"
   ]
  },
  {
   "cell_type": "code",
   "execution_count": null,
   "metadata": {},
   "outputs": [],
   "source": [
    "p.correctauto(['mCherry-100'], refstrain= 'Neg_POT1-ccdB_biorep1')"
   ]
  },
  {
   "cell_type": "code",
   "execution_count": null,
   "metadata": {},
   "outputs": [],
   "source": [
    "p.plot(y= 'c-mCherry-100perod', hue= 'strain', \n",
    "       strains= ['tRPS3trunc_86bp_biorep1','tRPS3trunc_86bp_biorep2'\n",
    "                 ,'tRPS3trunc_86bp_biorep3'], ymin= 0)"
   ]
  },
  {
   "cell_type": "code",
   "execution_count": null,
   "metadata": {},
   "outputs": [],
   "source": [
    "p.plot(y= 'c-mCherry-100perod', hue= 'strain', strains= ['tRPS3trunc_mod0_biorep1','tRPS3trunc_mod0_biorep2','tRPS3trunc_mod0_biorep3'], ymin= 0)"
   ]
  },
  {
   "cell_type": "code",
   "execution_count": null,
   "metadata": {},
   "outputs": [],
   "source": [
    "p.plot(y= 'c-mCherry-100perod', hue= 'strain', \n",
    "       strains= ['tRPS3trunc_modA_biorep1','tRPS3trunc_modA_biorep2','tRPS3trunc_modA_biorep3'], \n",
    "       ymin= 0)"
   ]
  },
  {
   "cell_type": "code",
   "execution_count": null,
   "metadata": {},
   "outputs": [],
   "source": [
    "p.plot(y= 'c-mCherry-100perod', hue= 'strain', \n",
    "       strains= ['tRPS3trunc_modB_biorep1','tRPS3trunc_modB_biorep2','tRPS3trunc_modB_biorep3'], \n",
    "       ymin= 0)"
   ]
  },
  {
   "cell_type": "code",
   "execution_count": null,
   "metadata": {},
   "outputs": [],
   "source": [
    "p.plot(y= 'c-mCherry-100perod', hue= 'strain', \n",
    "       strains= ['tRPS3trunc_modC_biorep1','tRPS3trunc_modC_biorep2','tRPS3trunc_modC_biorep3'], \n",
    "       ymin= 0)"
   ]
  },
  {
   "cell_type": "code",
   "execution_count": null,
   "metadata": {},
   "outputs": [],
   "source": [
    "p.plot(y= 'c-mCherry-100perod', hue= 'strain', \n",
    "       strains= ['tRPS3trunc_modD_biorep1','tRPS3trunc_modD_biorep2','tRPS3trunc_modD_biorep3'], \n",
    "       ymin= 0)"
   ]
  },
  {
   "cell_type": "code",
   "execution_count": null,
   "metadata": {},
   "outputs": [],
   "source": [
    "p.plot(y= 'c-mCherry-100perod', hue= 'strain', \n",
    "       strains= ['tRPS3trunc_modE_biorep1','tRPS3trunc_modE_biorep2','tRPS3trunc_modE_biorep3'], \n",
    "       ymin= 0)"
   ]
  },
  {
   "cell_type": "code",
   "execution_count": null,
   "metadata": {},
   "outputs": [],
   "source": [
    "p.exportdf()"
   ]
  },
  {
   "cell_type": "code",
   "execution_count": null,
   "metadata": {},
   "outputs": [],
   "source": [
    "p.importdf('20200116 - motif-mCherry-tRPS3trunc pRPS3 n=2')"
   ]
  },
  {
   "cell_type": "code",
   "execution_count": null,
   "metadata": {},
   "outputs": [],
   "source": [
    "e= '20200116 - motif-mCherry-tRPS3trunc pRPS3 n=2'\n",
    "# store results as an array of dictionaries to eventually convert into a dataframe\n",
    "results= []\n",
    "for s in p.allstrains[e]:\n",
    "        # find the time of local maximum growth rate for the condition\n",
    "        tm= p.sc.query('strain == @s')['time of local max gr'].values[0]\n",
    "        # take the relevant sub-dataframe for the condition\n",
    "        df= p.s.query('strain == @s')\n",
    "        # find GPF mean at time tm\n",
    "        i= np.argmin(np.abs(df['time'].values - tm))\n",
    "        results.append({'c-mCherry-100 per OD at max local gr' : df['c-mCherry-100perod'][df.index[i]],\n",
    "                     'strain' : s})\n",
    "# convert to dataframe\n",
    "rdf= pd.DataFrame(results)\n",
    "# add to existing dataframe by experiment, condition, and strain\n",
    "p.sc= pd.merge(p.sc, rdf, how= 'outer')"
   ]
  },
  {
   "cell_type": "code",
   "execution_count": null,
   "metadata": {},
   "outputs": [],
   "source": [
    "p.sc[['strain','c-mCherry-100 per OD at max local gr']]"
   ]
  },
  {
   "cell_type": "code",
   "execution_count": null,
   "metadata": {},
   "outputs": [],
   "source": [
    "# plot results\n",
    "p.plot(x= 'strain', y= 'c-mCherry-100 per OD at max local gr', hue= 'strain',\n",
    "       strainexcludes=['Neg_POT1-ccdB_biorep1','Neg_POT1-ccdB_biorep2','Neg_POT1-ccdB_biorep3'] )"
   ]
  },
  {
   "cell_type": "code",
   "execution_count": null,
   "metadata": {},
   "outputs": [],
   "source": [
    "e= '20200116 - motif-mCherry-tRPS3trunc pRPS3 n=2'\n",
    "# store results as an array of dictionaries to eventually convert into a dataframe\n",
    "results= []\n",
    "for s in p.allstrains[e]:\n",
    "        # find the time of local maximum growth rate for the condition\n",
    "        tm= p.sc.query('strain == @s')['time of local max gr'].values[0]\n",
    "        # take the relevant sub-dataframe for the condition\n",
    "        df= p.s.query('strain == @s')\n",
    "        # find GPF mean at time tm\n",
    "        i= np.argmin(np.abs(df['time'].values - tm))\n",
    "        results.append({'c-mCherry-100 per OD mean at max local gr' : df['c-mCherry-100perod mean'][df.index[i]],\n",
    "                     'strain' : s})\n",
    "# convert to dataframe\n",
    "rdf= pd.DataFrame(results)\n",
    "# add to existing dataframe by experiment, condition, and strain\n",
    "p.sc= pd.merge(p.sc, rdf, how= 'outer')"
   ]
  },
  {
   "cell_type": "code",
   "execution_count": null,
   "metadata": {},
   "outputs": [],
   "source": []
  },
  {
   "cell_type": "code",
   "execution_count": null,
   "metadata": {},
   "outputs": [],
   "source": []
  },
  {
   "cell_type": "code",
   "execution_count": null,
   "metadata": {},
   "outputs": [],
   "source": [
    "# check results\n",
    "p.sc[['experiment', 'condition', 'strain', 'local max gr', \n",
    "      'mCherry-100 mean at max local gr']]"
   ]
  },
  {
   "cell_type": "code",
   "execution_count": null,
   "metadata": {},
   "outputs": [],
   "source": []
  },
  {
   "cell_type": "code",
   "execution_count": null,
   "metadata": {},
   "outputs": [],
   "source": []
  },
  {
   "cell_type": "code",
   "execution_count": null,
   "metadata": {},
   "outputs": [],
   "source": []
  }
 ],
 "metadata": {
  "kernelspec": {
   "display_name": "Python 3.7.4 64-bit ('base': conda)",
   "language": "python",
   "name": "python37464bitbaseconda1467ad72009641048c265d39ae4eafbb"
  },
  "language_info": {
   "codemirror_mode": {
    "name": "ipython",
    "version": 3
   },
   "file_extension": ".py",
   "mimetype": "text/x-python",
   "name": "python",
   "nbconvert_exporter": "python",
   "pygments_lexer": "ipython3",
   "version": "3.7.4"
  }
 },
 "nbformat": 4,
 "nbformat_minor": 2
}
